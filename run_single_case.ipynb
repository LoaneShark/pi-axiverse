{
 "cells": [
  {
   "cell_type": "code",
   "execution_count": 1,
   "id": "0d2351b1",
   "metadata": {
    "tags": []
   },
   "outputs": [],
   "source": [
    "## SIMULATION PARAMETERS\n",
    "verbosity         = 5        # Set debug print statement verbosity level (0 = Standard, -1 = Off)\n",
    "use_mass_units    = True     # Toggle whether calculations / results are given in units of pi-axion mass (True) or eV (False)\n",
    "use_natural_units = True     # Toggle whether calculations / results are given in c = h = G = 1 (True) or SI units (False)   || NOTE: full SI/phsyical unit support is still WIP!!\n",
    "save_output_files = True    # Toggle whether or not the results from this notebook run are written to a data directory\n",
    "\n",
    "config_name = '3_neutrals'   # Descriptive name for the given parameter case. Output files will be saved in a directory with this name.\n",
    "seed = 1                     # rng_seed, integer value (None for random)\n",
    "num_cores = 128              # Number of parallel threads available"
   ]
  },
  {
   "cell_type": "code",
   "execution_count": 2,
   "id": "2a3c5bf6-6cdf-4a04-bd9e-58f89cef1474",
   "metadata": {
    "tags": []
   },
   "outputs": [],
   "source": [
    "data_path = '~/data/pi-axiverse-data'\n",
    "version   = 'v2.6'"
   ]
  },
  {
   "cell_type": "code",
   "execution_count": 3,
   "id": "4c181c58-8483-49b8-98ed-8b904360f8e1",
   "metadata": {
    "tags": []
   },
   "outputs": [],
   "source": [
    "import numpy as np\n",
    "import pandas as pd\n",
    "from collections import OrderedDict\n",
    "from scipy.integrate import solve_ivp\n",
    "from scipy.signal import spectrogram\n",
    "from scipy.optimize import curve_fit\n",
    "import matplotlib.pyplot as plt\n",
    "import matplotlib.image as image\n",
    "import matplotlib.cm as cm\n",
    "from piaxi_numerics import set_param_space, solve_piaxi_system\n",
    "from piaxi_utils import *\n",
    "from piaxiverse import *\n",
    "import os\n",
    "\n",
    "debug_level = verbosity\n",
    "unitful_masses = True    # Toggle whether to provide unitful [eV] masses vs. mass-ratio [m_unit] values for calculations (Default: True)\n",
    "unitful_k = False        # Toggle whether k values are defined unitfully [eV] vs. units of mass-ratio [m_unit] (Default: False)"
   ]
  },
  {
   "cell_type": "code",
   "execution_count": 4,
   "id": "5f9f5715-a7b6-4190-b1a4-b8a7e0640038",
   "metadata": {},
   "outputs": [
    {
     "name": "stdout",
     "output_type": "stream",
     "text": [
      "rng_seed: 1\n"
     ]
    }
   ],
   "source": [
    "rng, rng_seed = get_rng(seed=seed)\n",
    "\n",
    "if debug_level > 3 or (debug_level >= 0 and seed is not None):\n",
    "    print('rng_seed:', rng_seed)"
   ]
  },
  {
   "cell_type": "code",
   "execution_count": 5,
   "id": "4d47c870-d897-47d0-b908-0e6e780db56e",
   "metadata": {},
   "outputs": [],
   "source": [
    "# Unitful fundamental constants\n",
    "c_raw = c = np.float64(2.998e10)    # Speed of light in a vacuum [cm/s]\n",
    "h_raw = h = np.float64(4.136e-15)   # Planck's constant [eV/Hz]\n",
    "G_raw = G = np.float64(1.0693e-19)  # Newtonian constant [cm^5 /(eV s^4)]\n",
    "manual_set = False\n",
    "if manual_set: # Manually toggle units\n",
    "    unitful_c = False\n",
    "    unitful_h = False\n",
    "    unitful_G = False\n",
    "if use_natural_units:\n",
    "    unitful_c = unitful_h = unitful_G = False\n",
    "else:\n",
    "    unitful_c = unitful_h = unitful_G = True\n",
    "\n",
    "# values to use in calculations in order to ensure correct units\n",
    "c_u = c if unitful_c else 1.\n",
    "h_u = h if unitful_h else 1.\n",
    "G_u = G if unitful_G else 1."
   ]
  },
  {
   "cell_type": "code",
   "execution_count": 6,
   "id": "c7a4d8c5",
   "metadata": {},
   "outputs": [],
   "source": [
    "# Set constants of model\n",
    "e    = 0.3      # dimensionless electron charge\n",
    "#F    = 1e16     # pi-axion decay constant (GeV) >= 10^11\n",
    "F = 1e9\n",
    "#p_t  = 0.4     # total local DM density (GeV/cm^3)\n",
    "p_t = 1e20\n",
    "#p_unit = 1.906e-12\n",
    "dimensionful_p = not(use_natural_units)\n",
    "p_unit = (c_raw*h_raw)**3 if not(dimensionful_p) else (c_u*h_u)**3   # convert densities from units of [1/cm^3] to [eV^3]\n",
    "## --> TODO: Could/Should we support spatially dependent distributions?\n",
    "\n",
    "## Tuneable constants\n",
    "# millicharge, vary to enable/disable charged species (10e-15 = OFF, 10e-25 = ON)\n",
    "#eps  = 1e-25   # (unitless)\n",
    "eps  = 1\n",
    "\n",
    "# Coupling constants\n",
    "#L3   = 1e11    # (GeV)\n",
    "L3   = 1e11\n",
    "#L4   = 1e11    # (GeV)\n",
    "L4   = 1e11\n",
    "l1   = 1       #\n",
    "l2   = 1       #\n",
    "l3   = 1       #\n",
    "l4   = 1       #\n",
    "\n",
    "# Unit scaling:\n",
    "GeV  = 1e9     # GeV -> eV\n",
    "#GeV = 1\n",
    "F   *= GeV\n",
    "p_t *= GeV\n",
    "p_t *= p_unit  # 1/cm^3 -> (eV/hc)^3\n",
    "L3  *= GeV\n",
    "L4  *= GeV"
   ]
  },
  {
   "cell_type": "code",
   "execution_count": 7,
   "id": "061f08f9-8298-4082-a4ea-0f8fd6782044",
   "metadata": {
    "tags": []
   },
   "outputs": [],
   "source": [
    "## Dark SM Parameters\n",
    "sample_qmass = False # TODO\n",
    "sample_qcons = False\n",
    "# Mass scaling parameters\n",
    "m_scale = 1e-22             # dark quark mass scale (eV) <= 10-20\n",
    "\n",
    "# SM quark masses for all 3 generations\n",
    "qm = m_scale*np.array([1., 2., 40.]) if not sample_qmass else m_scale*np.array([0., 0., 0.]) # TODO\n",
    "\n",
    "# dSM quark scaling constants (up, down, strange, charm, bottom, top) sampled from uniform distribution [0.7, 1.3]\n",
    "qc = np.array([1., 1., 1., 0., 0., 0.]) if not sample_qcons else rng.uniform(0.7, 1.3, (6,))\n",
    "#qc = np.array([1., 1., 1., 1., 1., 1.]) if not sample_qcons else rng.uniform(0.7, 1.3, (6,))\n",
    "\n",
    "# Dark quark masses (up, down, strange, charm, bottom, top)\n",
    "dqm = np.array([qm[0]*qc[0], qm[0]*qc[1], qm[1]*qc[2], qm[1]*qc[3], qm[2]*qc[4], qm[2]*qc[5]])\n",
    "\n",
    "# Scaling parameters\n",
    "xi     = np.array([ 1.,  1.,  1.,  1.,  1.,  1.,  1.,  1.,  1.])  # Charged species scaling paramters\n",
    "eps_c  = np.array([+1., +1., +1., -1., -1., -1., -1., +1., -1.])  # Millicharge sign"
   ]
  },
  {
   "cell_type": "code",
   "execution_count": 8,
   "id": "b1dfa50d",
   "metadata": {
    "tags": []
   },
   "outputs": [],
   "source": [
    "# Initial Conditions\n",
    "A_0    = 0.1\n",
    "Adot_0 = 0.0\n",
    "A_pm   = +1       # specify A± case (+1 or -1)\n",
    "A_sens = 1.0      # sensitivity for classification of resonance conditions"
   ]
  },
  {
   "cell_type": "code",
   "execution_count": 9,
   "id": "00af5708",
   "metadata": {},
   "outputs": [],
   "source": [
    "# Time domain\n",
    "t_span = [0, 3000]   # Units of 1/m_u\n",
    "#t_N    = 300       # Number of timesteps\n",
    "t_N = 1000\n",
    "t_sens = 0.1       # sensitivity for calculating time-averaged values\n",
    "\n",
    "# k values\n",
    "use_k_eq_0 = False     # Toggle whether or not k = 0 is included in the numerics (div. by 0 error possible if on)\n",
    "k_min = 0 if use_k_eq_0 else 1\n",
    "k_max = 200\n",
    "k_span = [k_min, k_max]  # TODO: replace with the appropriate values\n",
    "k_res = 1                            # k-mode granularity\n",
    "k_N = int((1./k_res)*max((k_max - k_min), 0) + 1)    # Number of k-modes"
   ]
  },
  {
   "cell_type": "code",
   "execution_count": 10,
   "id": "8f427b52-e338-4638-917e-55e910473fbe",
   "metadata": {},
   "outputs": [],
   "source": [
    "# Toggle whether mass-energy values should be computed in units of eV (False) or pi-axion mass (True)\n",
    "# (by default, k is defined in units of [m_u] whereas m is defined in units of [eV], so their scaling logic is inverted)\n",
    "unitful_amps   = unitful_m = True\n",
    "rescale_m      = use_mass_units if unitful_masses else not(use_mass_units)\n",
    "rescale_k      = not(rescale_m) if unitful_masses else rescale_m\n",
    "rescale_amps   = use_mass_units if unitful_amps else not(use_mass_units)"
   ]
  },
  {
   "cell_type": "code",
   "execution_count": 11,
   "id": "da19d97c-e767-4ea0-bfca-1bd4756ac061",
   "metadata": {},
   "outputs": [],
   "source": [
    "# Define pi-axiverse masse species\n",
    "m_r, m_n, m_c, counts, masks = define_mass_species(qm=qm, qc=qc, F=F, e=e, eps=eps, eps_c=eps_c, xi=xi)\n",
    "N_r, N_n, N_c = counts"
   ]
  },
  {
   "cell_type": "code",
   "execution_count": 12,
   "id": "5976269f",
   "metadata": {},
   "outputs": [
    {
     "name": "stdout",
     "output_type": "stream",
     "text": [
      "m_unit:   0.01414213562373095\n",
      "m (raw):\n",
      " [array([0.01414214, 0.02      ]) array([0.01732051])\n",
      " array([], dtype=float64)]\n",
      "m (out):\n",
      " [array([0.01414214, 0.02      ]) array([0.01732051])\n",
      " array([], dtype=float64)]\n",
      "amps (raw):\n",
      " [array([1.12738592e+10, 7.97182232e+09]) array([8.40303855e+09])\n",
      " array([], dtype=float64)]\n",
      "amps (out):\n",
      " [array([7.97182232e+11, 5.63692962e+11]) array([5.94184554e+11])\n",
      " array([], dtype=float64)]\n",
      "delta (raw):\n",
      " [array([0., 0.]) array([0.]) array([], dtype=float64)]\n",
      "Theta (raw):\n",
      " [array([0., 0.]) array([0.]) array([], dtype=float64)]\n",
      "Sample delta?   True\n",
      "  mu: 3.14  |  sigma: 1.05\n",
      "delta (out):\n",
      " [array([0.36189492, 0.86039651]) array([0.3460329])\n",
      " array([], dtype=float64)]\n",
      "Sample Theta?   True\n",
      "  mu: 3.14  |  sigma: 1.05\n",
      "Theta (out):\n",
      " [array([4.91852225, 0.94808645]) array([0.46744236])\n",
      " array([], dtype=float64)]\n"
     ]
    }
   ],
   "source": [
    "## Get variables of model\n",
    "\n",
    "# Populate masses for real, complex, and charged species (given in units of eV)\n",
    "m, m_u = init_masses(m_r, m_n, m_c, natural_units=use_natural_units, c=c, verbosity=verbosity)\n",
    "# Handle unit rescaling logic\n",
    "m_unit = m_u\n",
    "m0 = 1. if not rescale_m else (1./m_unit if unitful_masses else m_unit)         # [m_u] <--> [eV]\n",
    "k0 = m_unit if rescale_k else 1.\n",
    "t0 = 1./m_unit if unitful_m else 1.\n",
    "\n",
    "## Populate pi-axion dark matter energy densities\n",
    "p = init_densities(masks, p_t=p_t, normalized_subdens=True)\n",
    "\n",
    "## Populate (initial) pi-axion dark matter mass-amplitudes for each species, optional units of [eV/c]\n",
    "amps = init_amplitudes(m, p, m_unit=m_u, h=h, c=c, mass_units=use_mass_units, natural_units=use_natural_units, unitful_amps=unitful_masses, rescale_amps=rescale_amps, verbosity=verbosity)\n",
    "\n",
    "# Populate and sample local and global phases from normal distribution, between 0 and 2pi\n",
    "d, Th = init_phases(masks, rng=rng, sample_delta=True, sample_Theta=True, verbosity=verbosity)\n",
    "\n",
    "# For performance gains, omit fully non-existant species from the numerics\n",
    "m    = trim_masked_arrays(m)\n",
    "p    = trim_masked_arrays(p)\n",
    "amps = trim_masked_arrays(amps)\n",
    "Th   = trim_masked_arrays(Th)\n",
    "d    = trim_masked_arrays(d)"
   ]
  },
  {
   "cell_type": "code",
   "execution_count": 13,
   "id": "66ec7955",
   "metadata": {
    "tags": []
   },
   "outputs": [
    {
     "name": "stdout",
     "output_type": "stream",
     "text": [
      "use_mass_units:  True || use_natural_units: True\n",
      "----------------------------------------------------\n",
      "unitful_masses:  True | [eV]\n",
      "rescale_m:       True | [eV] -> [m_u]\n",
      "unitful_k:      False | [m_u]\n",
      "rescale_k:      False \n",
      "unitful_amps:    True | [eV]\n",
      "rescale_amps:    True | [eV] -> [m_u]\n",
      "rescale_consts:  True | [eV] -> [m_u]\n",
      "----------------------------------------------------\n",
      "m_dQCD = 1e-22 [eV]\n",
      "m_u = 1.414e-02 [eV]\n",
      "m [m_u]\n",
      "  m_(0): 1.000e+00 | 1.414e+00\n",
      "  m_(π): 1.225e+00\n",
      "  m_(±): N/A\n",
      "rho [eV^4]\n",
      "  m_(0): 1.271e+16 | 1.271e+16\n",
      "  m_(π): 1.059e+16\n",
      "  m_(±): N/A\n",
      "amp [m_u]\n",
      "  m_(0): 7.972e+11 | 5.637e+11\n",
      "  m_(π): 5.942e+11\n",
      "  m_(±): N/A\n",
      "Theta [π]\n",
      "  m_(0): 1.57 | 0.30\n",
      "  m_(π): 0.15\n",
      "  m_(±): N/A\n",
      "delta [π]\n",
      "  m_(0): 0.12 | 0.27\n",
      "  m_(π): 0.11\n",
      "  m_(±): N/A\n"
     ]
    }
   ],
   "source": [
    "## Define the system of ODEs\n",
    "# TODO: Finish defining time-dependent functions P(t), B(t), C(t), D(t) here\n",
    "#       - Verify they are the correct form, double check all signs and factors of 2\n",
    "# NOTE: Using cosine definitons for amplitudes\n",
    "#       i = {0,1,2} correspond to {pi_0, pi, pi_±} respectively\n",
    "\n",
    "# Rescale all eV unit constants to unit mass\n",
    "#rescale_consts = False\n",
    "rescale_consts = rescale_m if unitful_masses else not(rescale_m)\n",
    "L3_sc = abs(L3) if not rescale_consts else L3 / m_unit\n",
    "L4_sc = abs(L4) if not rescale_consts else L4 / m_unit\n",
    "F_sc  = abs(F)  if not rescale_consts else  F / m_unit\n",
    "\n",
    "units = get_units(unitful_m, rescale_m, unitful_k, rescale_k, unitful_amps, rescale_amps, rescale_consts, dimensionful_p, unitful_c, unitful_h, unitful_G, use_mass_units, verbosity=verbosity)\n",
    "print_params(units, m=m, p=p, amps=amps, Th=Th, d=d, m_q=m_scale, m_0=m0, m_u=m_u, natural_units=use_natural_units, verbosity=verbosity)\n",
    "\n",
    "# Shorthand helper function for oscillatory time-dependent terms\n",
    "# (time is assumed to be defined in units of [1/m_u] always)\n",
    "phi = lambda t, s, i, m=m, d=d, t0=t0: (m[s][i])*(t*t0) + d[s][i]\n",
    "#phi = lambda t, s, i, m=m, d=d, M=(1./m_unit if unitful_masses and not rescale_m else 1.): (m[s][i]*M)*t + d[s][i]\n",
    "\n",
    "# Define coefficient functions to clean up differential equation representation\n",
    "P = lambda t, l3=l3, L3=L3_sc, l4=l4, L4=L4_sc, eps=eps, amps=amps, m=m, M=m0, d=d, Th=Th, c=c_u, h=h_u, G=G_u, phi=phi, np=np: \\\n",
    "           2*l3/(L3**2) * eps**2 * (np.sum([amps[2][i]*amps[2][j]/c**2 * np.cos(phi(t,2,i))*np.cos(phi(t,2,j)) * np.cos(Th[2][i]-Th[2][j]) \\\n",
    "                                            for i in range(len(m[2])) for j in range(len(m[2]))], axis=0)) + \\\n",
    "           2*l4/(L4**2) * eps**2 * (np.sum([amps[1][i]*amps[1][j]/c**2 * np.cos(phi(t,1,i))*np.cos(phi(t,1,j)) * np.cos(Th[1][i]-Th[1][j]) \\\n",
    "                                            for i in range(len(m[1])) for j in range(len(m[1]))], axis=0) + \\\n",
    "                                    np.sum([amps[0][i]*amps[0][j]/c**2 * np.cos(phi(t,0,i))*np.cos(phi(t,0,j)) \\\n",
    "                                            for i in range(len(m[0])) for j in range(len(m[0]))], axis=0) + \\\n",
    "                                  2*np.sum([amps[0][i]*amps[1][j]/c**2 * np.cos(phi(t,0,i))*np.cos(phi(t,1,j)) * np.cos(Th[1][j]) \\\n",
    "                                            for i in range(len(m[0])) for j in range(len(m[1]))], axis=0))\n",
    "\n",
    "B = lambda t, l3=l3, L3=L3_sc, l4=l4, L4=L4_sc, eps=eps, amps=amps, m=m, M=m0, d=d, Th=Th, c=c_u, h=h_u, G=G_u, phi=phi, np=np: \\\n",
    "            (-1)*2*l3/(L3**2) * eps**2 * (np.sum([amps[2][i]*amps[2][j]/c**2 * np.cos(Th[2][i]-Th[2][j])  * \\\n",
    "                                                  ((m[2][i]*M/c**2) * np.sin(phi(t,2,i)) * np.cos(phi(t,2,j)) + \\\n",
    "                                                   (m[2][j]*M/c**2) * np.cos(phi(t,2,i)) * np.sin(phi(t,2,j))) \\\n",
    "                                                  for i in range(len(m[2])) for j in range(len(m[2]))], axis=0)) + \\\n",
    "            (-1)*2*l4/(L4**2) * eps**2 * (np.sum([amps[0][i]*amps[0][j]/c**2 * ((m[0][i]*M/c**2) * np.sin(phi(t,0,i)) * np.cos(phi(t,0,j)) + \\\n",
    "                                                                                  (m[0][j]*M/c**2) * np.cos(phi(t,0,i)) * np.sin(phi(t,0,j))) \\\n",
    "                                                  for i in range(len(m[0])) for j in range(len(m[0]))], axis=0) + \\\n",
    "                                                 np.sum([amps[1][i]*amps[1][j]/c**2 * np.cos(Th[1][i]-Th[1][j])  * \\\n",
    "                                                         ((m[1][i]*M/c**2) * np.sin(phi(t,1,i)) * np.cos(phi(t,1,j)) + \\\n",
    "                                                          (m[1][j]*M/c**2) * np.cos(phi(t,1,i)) * np.sin(phi(t,1,j))) \\\n",
    "                                                         for i in range(len(m[1])) for j in range(len(m[1]))], axis=0) + \\\n",
    "                                                 np.sum([np.abs(amps[0][i]*amps[1][j]/c**2) * np.cos(Th[1][j]) * \\\n",
    "                                                         ((m[0][i]*M/c**2) * np.sin(phi(t,0,i)) * np.cos(phi(t,1,j)) + \\\n",
    "                                                          (m[1][j]*M/c**2) * np.cos(phi(t,0,i)) * np.sin(phi(t,1,j))) \\\n",
    "                                                         for i in range(len(m[0])) for j in range(len(m[1]))], axis=0))\n",
    "\n",
    "C = lambda t, pm, l1=l1, F=F_sc, eps=eps, amps=amps, m=m, M=m0, d=d, c=c_u, h=h_u, G=G_u, phi=phi, np=np: \\\n",
    "            (-1) * pm * (2*l1 / F) * eps**2 * np.sum([amps[0][i]/c**2 * (m[0][i]*M/c**2) * np.sin(phi(t,0,i)) \\\n",
    "                                                      for i in range(len(m[0]))], axis=0)\n",
    "\n",
    "D = lambda t, l2=l2, e=e, eps=eps, amps=amps, m=m, M=m0, d=d, Th=Th, c=c_u, h=h_u, G=G_u, phi=phi, np=np: \\\n",
    "            l2 * eps**2 * e**2 * np.sum([amps[2][i]*amps[2][j]/c**2 * np.cos(phi(t,2,i))*np.cos(phi(t,2,j)) * np.cos(Th[2][i]-Th[2][j]) \\\n",
    "                                         for i in range(len(m[2])) for j in range(len(m[2]))], axis=0)"
   ]
  },
  {
   "cell_type": "code",
   "execution_count": 14,
   "id": "f7726e4d-cee0-4d9c-84b8-29d7d7001b76",
   "metadata": {},
   "outputs": [],
   "source": [
    "override_coefficients = False\n",
    "if override_coefficients:\n",
    "    #P = P_off\n",
    "    #B = B_off\n",
    "    #D = D_off\n",
    "    #C = C_off\n",
    "    override_coefficients = True"
   ]
  },
  {
   "cell_type": "code",
   "execution_count": 15,
   "id": "d210756c",
   "metadata": {
    "tags": []
   },
   "outputs": [
    {
     "name": "stdout",
     "output_type": "stream",
     "text": [
      "parameter space configuration hash:\n",
      "39966c4382960bf3418cd722db1fd10ab7239b7d\n"
     ]
    }
   ],
   "source": [
    "# Prepare the numerical integration\n",
    "k_values, k_step = np.linspace(k_span[0], k_span[1], k_N, retstep=True)\n",
    "#k_values = np.linspace(1./100, 10, 100)\n",
    "\n",
    "# Initialize an array to store the solutions\n",
    "t, t_step = np.linspace(t_span[0], t_span[1], t_N, retstep=True)  # Array of times at which to evaluate, t > 0\n",
    "#t = t[1:]\n",
    "\n",
    "# Classification sensitivity threshold\n",
    "res_con = 1000\n",
    "#res_con = max(100,1./A_sens)\n",
    "\n",
    "# Collect all input parameters\n",
    "parameters = {'e': e, 'F': F, 'p_t': p_t, 'eps': eps, 'L3': L3, 'L4': L4, 'l1': l1, 'l2': l2, 'l3': l3, 'l4': l4, 'res_con': res_con,\n",
    "              'A_0': A_0, 'Adot_0': Adot_0, 'A_pm': A_pm, 't_sens': t_sens, 'A_sens': A_sens,\n",
    "              'qm': qm, 'qc': qc, 'dqm': dqm, 'eps_c': eps_c, 'xi': xi, 'm_0': m0, 'm_u': m_unit, 'm_scale': m_scale, 'p_unit': p_unit,\n",
    "              'm_r': m[0], 'm_n': m[1], 'm_c': m[2], 'p_r': p[0], 'p_n': p[1], 'p_c': p[2], 'Th_r': Th[0], 'Th_n': Th[1], 'Th_c': Th[2],\n",
    "              'amp_r': amps[0], 'amp_n': amps[1], 'amp_c': amps[2], 'd_r': d[0], 'd_n': d[1], 'd_c': d[2], 'k_0': k0,\n",
    "              'unitful_m': unitful_masses, 'rescale_m': rescale_m, 'unitful_amps': unitful_amps, 'rescale_amps': rescale_amps, \n",
    "              'unitful_k': unitful_k, 'rescale_k': rescale_k, 'rescale_consts': rescale_consts, 'h': h, 'c': c, 'G': G, 'seed': rng_seed, \n",
    "              'dimensionful_p': dimensionful_p, 'use_natural_units': use_natural_units, 'use_mass_units': use_mass_units}\n",
    "\n",
    "phash = get_parameter_space_hash(parameters)\n",
    "\n",
    "if debug_level > 5:\n",
    "    for key, val in parameters.items():\n",
    "        print('%15s' % key, ':', val)\n",
    "    print ('\\n')\n",
    "if debug_level > 3:\n",
    "    print('parameter space configuration hash:')\n",
    "    print(phash)"
   ]
  },
  {
   "cell_type": "code",
   "execution_count": null,
   "id": "bcfb8433-0f42-4cea-b689-b221b2e503b6",
   "metadata": {},
   "outputs": [
    {
     "name": "stdout",
     "output_type": "stream",
     "text": [
      "Jupyter?        True\n",
      "Parallel?       True \n"
     ]
    },
    {
     "data": {
      "application/vnd.jupyter.widget-view+json": {
       "model_id": "da438a59923a484fab8b8a58bb9c1883",
       "version_major": 2,
       "version_minor": 0
      },
      "text/plain": [
       "  0%|          | 0/200 [00:00<?, ?it/s]"
      ]
     },
     "metadata": {},
     "output_type": "display_data"
    }
   ],
   "source": [
    "# Solve the system, in parallel for each k-mode\n",
    "os.environ['NUMEXPR_MAX_THREADS'] = '%d' % (max(int(num_cores), 1))\n",
    "is_parallel = True\n",
    "#show_progress = (verbosity >= 0)\n",
    "show_progress = True\n",
    "\n",
    "params = init_params(parameters, t_min=t_span[0], t_max=t_span[1], t_N=t_N, k_min=k_span[0], k_max=k_span[1], k_N=k_N)\n",
    "#params = set_param_space(init_params(parameters, t_min=t_span[0], t_max=t_span[1], t_N=t_N, k_min=k_span[0], k_max=k_span[1], k_N=k_N))\n",
    "\n",
    "local_system = lambda t, y, k, params: piaxi_system(t, y, k, params, P=P, B=B, C=C, D=D, A_pm=A_pm, bg=+1, k0=k0, c=c_u, h=h_u, G=G_u)\n",
    "\n",
    "solutions, params, time_elapsed, timestr = solve_piaxi_system(local_system, params, k_values, parallelize=is_parallel, num_cores=num_cores, verbosity=verbosity, show_progress_bar=show_progress)\n",
    "\n",
    "result_plots = {}\n",
    "print(timestr)"
   ]
  },
  {
   "cell_type": "code",
   "execution_count": null,
   "id": "0e44da8f",
   "metadata": {
    "tags": []
   },
   "outputs": [],
   "source": [
    "# Plot results (Amplitudes)\n",
    "k_peak, k_mean = get_peak_k_modes(solutions)\n",
    "\n",
    "if debug_level > 0:\n",
    "    print('max (peak) k mode: ' + str(k_peak))\n",
    "    print('max (mean) k mode: ' + str(k_mean))\n",
    "\n",
    "# Plot the solution\n",
    "plt = make_amplitudes_plot(params, units, solutions)\n",
    "result_plots['amps'] = plt.gcf()\n",
    "plt.show()"
   ]
  },
  {
   "cell_type": "code",
   "execution_count": null,
   "id": "cb53bc5c",
   "metadata": {},
   "outputs": [],
   "source": [
    "# Plot the occupation numbers (TODO: Verify units in below equation)\n",
    "#k_to_w = np.float64(4.555e25) # 2πc/hbar [(Hz/eV)*(cm/s)]\n",
    "w = lambda i, k_u=m_unit, c=c_raw, h=h_raw: np.abs(k_values[i]*k_u*(2*np.pi/h))\n",
    "n = lambda i, w, solns: (w(i)/2) * (((np.square(np.abs(solns[i][1])))/(np.square(w(i)))) + np.square(np.abs(solns[i][0]))) - (1/2)\n",
    "times = t\n",
    "\n",
    "scale_n = True\n",
    "plt, params = make_occupation_num_plots(params, units, solutions, numf=n, omega=w, scale_n=scale_n)\n",
    "n_tot = sum_n_k(n, w, solutions, times)\n",
    "tot_res = params['res_class']\n",
    "result_plots['nums'] = plt.gcf()\n",
    "plt.show()\n",
    "\n",
    "print('n_tot in range [%.2e, %.2e]' % (min(n_tot), max(n_tot)))\n",
    "if 'res' in tot_res and debug_level > 2:\n",
    "    print('resonance classification begins at t = %.2f, n = %.2e' % (t_res, n_res))"
   ]
  },
  {
   "cell_type": "code",
   "execution_count": null,
   "id": "7ffa7cc5",
   "metadata": {},
   "outputs": [],
   "source": [
    "# Plot results (Oscillating coefficient values)\n",
    "plt = make_coefficients_plot(params, units, P, B, C, D, A_pm, k0)\n",
    "result_plots['coeffs'] = plt.gcf()\n",
    "plt.show()\n",
    "\n",
    "if debug_level == 2:\n",
    "    print_coefficient_ranges(P, B, C, D)\n",
    "elif debug_level > 2:\n",
    "    print_coefficient_ranges(P, B, C, D, print_all=True)"
   ]
  },
  {
   "cell_type": "code",
   "execution_count": null,
   "id": "b0c63d00",
   "metadata": {},
   "outputs": [],
   "source": [
    "if debug_level > 5:\n",
    "    print('params:\\n', params, '\\n')\n",
    "if debug_level > 2:\n",
    "    print('params[\\'class\\']:\\n', params['class'])\n",
    "    if debug_level > 6:\n",
    "        print('params[\\'k_class_arr\\']:\\n', params['k_class_arr'])\n",
    "        print('k_ratio:\\n', k_ratio(np.mean, t_sens, A_sens))\n",
    "\n",
    "# E^2 = p^2c^2 + m^2c^4\n",
    "# Assuming k, m are given in units of eV/c and eV/c^2 respectively\n",
    "#k_to_Hz = lambda ki, mi=0, m_0=m0, e=e: 1/h * np.sqrt((ki*k0*e)**2 + ((mi*m_0 * e))**2)\n",
    "k_to_Hz = lambda ki, k0=m_unit, h=h, c=c, e=e: ki * ((k0*e*2*np.pi) / h)\n",
    "#Hz_to_k = lambda fi, mi=0, m_0=m0, e=e: 1/(e*k0) * np.sqrt((h * fi)**2 - ((mi*m_0 * e))**2)\n",
    "Hz_to_k = lambda fi, k0=m_unit, h=h, c=c, e=e: fi * (h / (k0*e*2*np.pi))\n",
    "\n",
    "# Plot k-mode power spectrum (TODO: Verify power spectrum calculation)\n",
    "plt = make_resonance_spectrum(params, units, k_to_Hz, Hz_to_k)\n",
    "result_plots['resonance'] = plt.gcf()\n",
    "plt.show()\n",
    "\n",
    "# Known observable frequency ranges (Hz)\n",
    "FRB_range = [100e6, 5000e6]\n",
    "GRB_range = [3e19, 3e21]\n",
    "\n",
    "Hz_label = lambda f, pd=pd: pd.cut([f],\n",
    "                                   [0, 300e6, 3e12, 480e12, 750e12, 30e15, 30e18, np.inf],\n",
    "                                   labels=['Radio', 'Microwave', 'Infrared', 'Visible', 'UV', 'X-ray', 'Gamma ray'])\n",
    "\n",
    "if 'res' in tot_res and debug_level >= 0:\n",
    "    Hz_peak = k_to_Hz(k_peak)\n",
    "    print('peak resonance at k = %d corresponds to photon frequency at %.2e Hz (%s)' % (k_peak, Hz_peak, Hz_label(Hz_peak)[0]))\n",
    "    if Hz_peak >= FRB_range[0] and Hz_peak <= FRB_range[1]:\n",
    "        print('possible FRB signal')\n",
    "    if Hz_peak >= GRB_range[0] and Hz_peak <= GRB_range[1]:\n",
    "        print('possible GRB signal')"
   ]
  },
  {
   "cell_type": "code",
   "execution_count": null,
   "id": "5db36756-bf52-4c9c-86ab-101fa8f11850",
   "metadata": {},
   "outputs": [],
   "source": [
    "plt = plot_ALP_survey(verbosity=verbosity)\n",
    "\n",
    "result_plots['alp'] = plt.gcf()\n",
    "    \n",
    "plt.show()"
   ]
  },
  {
   "cell_type": "code",
   "execution_count": null,
   "id": "b871a42d-57d4-45ea-8a36-29ea5b952067",
   "metadata": {
    "tags": []
   },
   "outputs": [],
   "source": [
    "fit_eps = False\n",
    "if fit_eps:\n",
    "    pts = [(0.1,-19.9), (0.5,-18.6), (1,-17.9)]\n",
    "    fit_res = fit_epsilon_relation(pts, plot_fit=True)\n",
    "    if debug_level >= 0:\n",
    "        print('y = %.3f log_10(10x + %.3f) + %.3f' % (fit_res[0], fit_res[1], fit_res[2]))"
   ]
  },
  {
   "cell_type": "code",
   "execution_count": null,
   "id": "c83f3903-e807-4829-81ed-c44abc0cf205",
   "metadata": {},
   "outputs": [],
   "source": [
    "# Optionally save results of this run to data directory\n",
    "save_input_params = True\n",
    "save_integrations = True\n",
    "save_output_plots = True\n",
    "use_longterm_data = False\n",
    "\n",
    "if save_output_files:\n",
    "    storage_path = data_path if use_longterm_data else '~/scratch'\n",
    "    output_dir   = '/'.join(storage_path.split('/')) + '/' + version + '/' + config_name + '/'\n",
    "    output_name  = '_'.join([config_name, phash])\n",
    "    \n",
    "    save_results(output_dir, output_name, params, solutions, result_plots, verbosity=debug_level, save_format='pdf',\n",
    "                 save_params=save_input_params, save_results=save_integrations, save_plots=save_output_plots)\n",
    "    \n",
    "    # Save plots (PDF or HTML or PNG or Notebook?)\n",
    "    # (TODO)"
   ]
  }
 ],
 "metadata": {
  "kernelspec": {
   "display_name": "Python 3 (ipykernel)",
   "language": "python",
   "name": "python3"
  },
  "language_info": {
   "codemirror_mode": {
    "name": "ipython",
    "version": 3
   },
   "file_extension": ".py",
   "mimetype": "text/x-python",
   "name": "python",
   "nbconvert_exporter": "python",
   "pygments_lexer": "ipython3",
   "version": "3.9.12"
  }
 },
 "nbformat": 4,
 "nbformat_minor": 5
}
