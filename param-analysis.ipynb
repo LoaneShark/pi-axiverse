{
 "cells": [
  {
   "cell_type": "code",
   "execution_count": 1,
   "id": "2b58be9f-ba23-40a7-b561-0a15e34cdfd0",
   "metadata": {
    "tags": []
   },
   "outputs": [],
   "source": [
    "import numpy as np\n",
    "#from scipy.integrate import solve_ivp\n",
    "#from scipy.signal import spectrogram\n",
    "import matplotlib.pyplot as plt\n",
    "#from piaxi_numerics import set_params, solve_system, get_text_params\n",
    "from piaxi_utils import fit_crude_epsilon_relation, fit_Fpi\n",
    "\n",
    "verbosity = 9"
   ]
  },
  {
   "cell_type": "code",
   "execution_count": 2,
   "id": "bbc988cd-959f-48a6-8a47-8844beec7743",
   "metadata": {},
   "outputs": [],
   "source": [
    "from sklearn.neural_network import MLPClassifier, MLPRegressor\n",
    "from sklearn.preprocessing import StandardScaler\n",
    "from sklearn.pipeline import Pipeline\n",
    "from sklearn.model_selection import train_test_split\n",
    "from sklearn.svm import SVC\n",
    "\n",
    "## TODO: Data generation, importing, and preprocessing\n",
    "\n",
    "# TODO: load dataset\n",
    "from sklearn.datasets import make_classification\n",
    "X, y = make_classification(random_state = 0, n_features = 20, n_informative = 18, n_classes = 3)\n",
    "\n",
    "# TODO: split into train and test sets\n",
    "X_train, X_test, y_train, y_test = train_test_split(X, y, random_state = 0)"
   ]
  },
  {
   "cell_type": "code",
   "execution_count": 3,
   "id": "a60f7024-b7cd-41ca-9693-ef43275b3e7b",
   "metadata": {},
   "outputs": [
    {
     "name": "stdout",
     "output_type": "stream",
     "text": [
      "svc\n",
      "Score: 0.72\n",
      " --------------------------------------- \n",
      "mlp\n",
      "Score: 0.25\n",
      " --------------------------------------- \n"
     ]
    }
   ],
   "source": [
    "# Create dataset processing and classification pipeline\n",
    "model_svc = Pipeline([('scaler', StandardScaler()), ('svc', SVC())])\n",
    "model_mlp = Pipeline([('scaler', StandardScaler()), ('mlp', MLPRegressor(max_iter=400))])\n",
    "models = [model_svc, model_mlp]\n",
    "\n",
    "# Fit model to training dataset\n",
    "for model in models:\n",
    "    print(list(model.named_steps.keys())[1])\n",
    "    model.fit(X_train, y_train)\n",
    "    # Evaluate fit with test dataset\n",
    "    print(\"Score: %.2f\" % model.score(X_test, y_test))\n",
    "    print(\" --------------------------------------- \")"
   ]
  },
  {
   "cell_type": "code",
   "execution_count": 4,
   "id": "da29efb8-ea8a-45d4-b6d5-cbb5dc728a43",
   "metadata": {},
   "outputs": [
    {
     "name": "stderr",
     "output_type": "stream",
     "text": [
      "D:\\env\\Python\\Python38-3\\lib\\site-packages\\scipy\\optimize\\_minpack_py.py:906: OptimizeWarning: Covariance of the parameters could not be estimated\n",
      "  warnings.warn('Covariance of the parameters could not be estimated',\n"
     ]
    },
    {
     "data": {
      "image/png": "[encoded data removed]",
      "text/plain": [
       "<Figure size 432x288 with 1 Axes>"
      ]
     },
     "metadata": {
      "needs_background": "light"
     },
     "output_type": "display_data"
    },
    {
     "name": "stdout",
     "output_type": "stream",
     "text": [
      "y = 2.615 log_10(10x + 0.868) + -20.610\n"
     ]
    }
   ],
   "source": [
    "fit_eps = True\n",
    "eps = 1.\n",
    "if fit_eps:\n",
    "    pts = [(0.1,-19.9,eps), (0.5,-18.6,eps), (1,-17.9,eps)]\n",
    "    fit_res, _ = fit_crude_epsilon_relation(pts_in=pts, plot_fit=True)\n",
    "    if verbosity >= 0:\n",
    "        print('y = %.3f log_10(10x + %.3f) + %.3f' % (fit_res[0], fit_res[1], fit_res[2]))"
   ]
  },
  {
   "cell_type": "code",
   "execution_count": 5,
   "id": "34b4ecd8",
   "metadata": {},
   "outputs": [],
   "source": [
    "fit_F = True\n",
    "\n",
    "if fit_F:\n",
    "    Fpi = fit_Fpi(1.0, 1e-20)"
   ]
  },
  {
   "cell_type": "code",
   "execution_count": 6,
   "id": "23b711d6-4b47-4fc9-b1cf-ba2fd35f0982",
   "metadata": {},
   "outputs": [
    {
     "name": "stdout",
     "output_type": "stream",
     "text": [
      "input_str 3_neutrals_5f6d4c42050e31fa8d06ce7d9fc526e1eff881f3.json\n",
      "output_dir_in .\\test_data\\\n",
      "output_dir split\n",
      "label:   None\n",
      "phash:   None\n",
      "input_label:   3_neutrals\n",
      "input_phash:   5f6d4c42050e31fa8d06ce7d9fc526e1eff881f3\n",
      "output_dir .\\test_data\\v2.8\\3_neutrals\n"
     ]
    },
    {
     "ename": "TypeError",
     "evalue": "get_units() missing 7 required positional arguments: 'unitful_m', 'rescale_m', 'unitful_k', 'rescale_k', 'unitful_amps', 'rescale_amps', and 'rescale_consts'",
     "output_type": "error",
     "traceback": [
      "\u001b[1;31m---------------------------------------------------------------------------\u001b[0m",
      "\u001b[1;31mTypeError\u001b[0m                                 Traceback (most recent call last)",
      "\u001b[1;32m~\\AppData\\Local\\Temp\\ipykernel_22772\\3635711359.py\u001b[0m in \u001b[0;36m<module>\u001b[1;34m\u001b[0m\n\u001b[0;32m      2\u001b[0m \u001b[1;33m\u001b[0m\u001b[0m\n\u001b[0;32m      3\u001b[0m \u001b[1;31m#plot_single_case('3_neutrals_5f6d4c42050e31fa8d06ce7d9fc526e1eff881f3.json', input_dir='D:\\\\Code\\\\Research\\\\piaxiverse\\\\test_data\\\\')\u001b[0m\u001b[1;33m\u001b[0m\u001b[1;33m\u001b[0m\u001b[1;33m\u001b[0m\u001b[0m\n\u001b[1;32m----> 4\u001b[1;33m \u001b[0mplot_single_case\u001b[0m\u001b[1;33m(\u001b[0m\u001b[1;34m'3_neutrals_5f6d4c42050e31fa8d06ce7d9fc526e1eff881f3.json'\u001b[0m\u001b[1;33m,\u001b[0m \u001b[0minput_dir\u001b[0m\u001b[1;33m=\u001b[0m\u001b[1;34m'.\\\\test_data\\\\'\u001b[0m\u001b[1;33m)\u001b[0m\u001b[1;33m\u001b[0m\u001b[1;33m\u001b[0m\u001b[0m\n\u001b[0m\u001b[0;32m      5\u001b[0m \u001b[1;33m\u001b[0m\u001b[0m\n",
      "\u001b[1;32mD:\\Code\\Research\\pi-axiverse\\piaxi_utils.py\u001b[0m in \u001b[0;36mplot_single_case\u001b[1;34m(input_str, input_dir, plot_res, plot_nums, plot_coeffs, k_samples)\u001b[0m\n\u001b[0;32m    606\u001b[0m     \u001b[1;31m# Load results\u001b[0m\u001b[1;33m\u001b[0m\u001b[1;33m\u001b[0m\u001b[1;33m\u001b[0m\u001b[0m\n\u001b[0;32m    607\u001b[0m     \u001b[0mparams\u001b[0m\u001b[1;33m,\u001b[0m \u001b[0mresults\u001b[0m\u001b[1;33m,\u001b[0m \u001b[0m_\u001b[0m\u001b[1;33m,\u001b[0m \u001b[0mcoeffs\u001b[0m \u001b[1;33m=\u001b[0m \u001b[0mload_single\u001b[0m\u001b[1;33m(\u001b[0m\u001b[0minput_str\u001b[0m\u001b[1;33m,\u001b[0m \u001b[0moutput_root\u001b[0m\u001b[1;33m=\u001b[0m\u001b[0minput_dir\u001b[0m\u001b[1;33m)\u001b[0m\u001b[1;33m\u001b[0m\u001b[1;33m\u001b[0m\u001b[0m\n\u001b[1;32m--> 608\u001b[1;33m     \u001b[0munits\u001b[0m \u001b[1;33m=\u001b[0m \u001b[0mget_units\u001b[0m\u001b[1;33m(\u001b[0m\u001b[1;33m)\u001b[0m\u001b[1;33m\u001b[0m\u001b[1;33m\u001b[0m\u001b[0m\n\u001b[0m\u001b[0;32m    609\u001b[0m \u001b[1;33m\u001b[0m\u001b[0m\n\u001b[0;32m    610\u001b[0m     \u001b[1;31m# Define which k values should be plotted\u001b[0m\u001b[1;33m\u001b[0m\u001b[1;33m\u001b[0m\u001b[1;33m\u001b[0m\u001b[0m\n",
      "\u001b[1;31mTypeError\u001b[0m: get_units() missing 7 required positional arguments: 'unitful_m', 'rescale_m', 'unitful_k', 'rescale_k', 'unitful_amps', 'rescale_amps', and 'rescale_consts'"
     ]
    }
   ],
   "source": [
    "from piaxi_utils import plot_single_case\n",
    "\n",
    "#plot_single_case('3_neutrals_5f6d4c42050e31fa8d06ce7d9fc526e1eff881f3.json', input_dir='D:\\\\Code\\\\Research\\\\piaxiverse\\\\test_data\\\\')\n",
    "plot_single_case('3_neutrals_5f6d4c42050e31fa8d06ce7d9fc526e1eff881f3.json', input_dir='.\\\\test_data\\\\')\n",
    "                 "
   ]
  },
  {
   "cell_type": "code",
   "execution_count": null,
   "id": "dba39f3c-df75-47ef-ad1b-6e40a2b5da9a",
   "metadata": {
    "tags": []
   },
   "outputs": [],
   "source": [
    "## Analyze a run's plots TODO/WIP\n",
    "if False:\n",
    "    import matplotlib.pyplot as plt\n",
    "    import seaborn as sns\n",
    "    import numpy as np\n",
    "\n",
    "    # Sample data (replace with actual data)\n",
    "    data = {\n",
    "        # ... (your provided dataset)\n",
    "    }\n",
    "\n",
    "    # Placeholder for raw solution (replace with actual data when available)\n",
    "    raw_solution = np.random.rand(300, 200)  # Example TxN-dimensional array\n",
    "\n",
    "    # Heatmap for raw solution\n",
    "    plt.figure(figsize=(12, 8))\n",
    "    sns.heatmap(raw_solution, cmap='viridis')\n",
    "    plt.title(\"Heatmap of Raw Solution (Amplitude of Photon Field)\")\n",
    "    plt.xlabel(\"k-mode\")\n",
    "    plt.ylabel(\"Time\")\n",
    "    plt.show()\n",
    "\n",
    "    # Bar plots for k_mean_arr, k_peak_arr, and k_sens_arr\n",
    "    k_modes = np.arange(1, len(data[\"k_mean_arr\"]) + 1)\n",
    "    plt.figure(figsize=(12, 8))\n",
    "    plt.bar(k_modes, data[\"k_mean_arr\"], label=\"k_mean_arr\", alpha=0.6)\n",
    "    plt.bar(k_modes, data[\"k_peak_arr\"], label=\"k_peak_arr\", alpha=0.6)\n",
    "    plt.bar(k_modes, data[\"k_sens_arr\"], label=\"k_sens_arr\", alpha=0.6)\n",
    "    plt.xlabel(\"k-mode\")\n",
    "    plt.ylabel(\"Value\")\n",
    "    plt.title(\"Bar Plots for k_mean_arr, k_peak_arr, and k_sens_arr\")\n",
    "    plt.legend()\n",
    "    plt.grid(True)\n",
    "    plt.show()\n",
    "\n",
    "    # Categorical plot for k_class_arr\n",
    "    plt.figure(figsize=(12, 8))\n",
    "    sns.countplot(data[\"k_class_arr\"])\n",
    "    plt.title(\"Distribution of Classification Labels\")\n",
    "    plt.xlabel(\"Class\")\n",
    "    plt.ylabel(\"Count\")\n",
    "    plt.grid(True)\n",
    "    plt.show()\n"
   ]
  },
  {
   "cell_type": "code",
   "execution_count": null,
   "id": "3d870eb9-6035-40b0-8752-a0c51230b1c6",
   "metadata": {},
   "outputs": [],
   "source": []
  }
 ],
 "metadata": {
  "kernelspec": {
   "display_name": "Python 3 (ipykernel)",
   "language": "python",
   "name": "python3"
  },
  "language_info": {
   "codemirror_mode": {
    "name": "ipython",
    "version": 3
   },
   "file_extension": ".py",
   "mimetype": "text/x-python",
   "name": "python",
   "nbconvert_exporter": "python",
   "pygments_lexer": "ipython3",
   "version": "3.8.3"
  }
 },
 "nbformat": 4,
 "nbformat_minor": 5
}
