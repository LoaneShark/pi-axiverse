{
 "cells": [
  {
   "cell_type": "code",
   "execution_count": 1,
   "id": "2b58be9f-ba23-40a7-b561-0a15e34cdfd0",
   "metadata": {
    "tags": []
   },
   "outputs": [],
   "source": [
    "import numpy as np\n",
    "#from scipy.integrate import solve_ivp\n",
    "#from scipy.signal import spectrogram\n",
    "import matplotlib.pyplot as plt\n",
    "#from piaxi_numerics import set_params, solve_system, get_text_params\n",
    "from piaxi_utils import fit_epsilon_relation, fit_Fpi\n",
    "from sklearn.neural_network import MLPClassifier, MLPRegressor\n",
    "from sklearn.preprocessing import StandardScaler\n",
    "from sklearn.pipeline import Pipeline\n",
    "from sklearn.model_selection import train_test_split\n",
    "from sklearn.svm import SVC\n",
    "\n",
    "verbosity = 9"
   ]
  },
  {
   "cell_type": "code",
   "execution_count": 2,
   "id": "bbc988cd-959f-48a6-8a47-8844beec7743",
   "metadata": {},
   "outputs": [],
   "source": [
    "## TODO: Data generation, importing, and preprocessing\n",
    "\n",
    "# TODO: load dataset\n",
    "from sklearn.datasets import make_classification\n",
    "X, y = make_classification(random_state = 0, n_features = 20, n_informative = 18, n_classes = 3)\n",
    "\n",
    "# TODO: split into train and test sets\n",
    "X_train, X_test, y_train, y_test = train_test_split(X, y, random_state = 0)"
   ]
  },
  {
   "cell_type": "code",
   "execution_count": 3,
   "id": "a60f7024-b7cd-41ca-9693-ef43275b3e7b",
   "metadata": {},
   "outputs": [
    {
     "name": "stdout",
     "output_type": "stream",
     "text": [
      "svc\n",
      "Score: 0.72\n",
      " --------------------------------------- \n",
      "mlp\n",
      "Score: 0.28\n",
      " --------------------------------------- \n"
     ]
    }
   ],
   "source": [
    "# Create dataset processing and classification pipeline\n",
    "model_svc = Pipeline([('scaler', StandardScaler()), ('svc', SVC())])\n",
    "model_mlp = Pipeline([('scaler', StandardScaler()), ('mlp', MLPRegressor(max_iter=400))])\n",
    "models = [model_svc, model_mlp]\n",
    "\n",
    "# Fit model to training dataset\n",
    "for model in models:\n",
    "    print(list(model.named_steps.keys())[1])\n",
    "    model.fit(X_train, y_train)\n",
    "    # Evaluate fit with test dataset\n",
    "    print(\"Score: %.2f\" % model.score(X_test, y_test))\n",
    "    print(\" --------------------------------------- \")"
   ]
  },
  {
   "cell_type": "code",
   "execution_count": 4,
   "id": "da29efb8-ea8a-45d4-b6d5-cbb5dc728a43",
   "metadata": {},
   "outputs": [
    {
     "ename": "ValueError",
     "evalue": "operands could not be broadcast together with shapes (2,) (3,) ",
     "output_type": "error",
     "traceback": [
      "\u001b[0;31m---------------------------------------------------------------------------\u001b[0m",
      "\u001b[0;31mValueError\u001b[0m                                Traceback (most recent call last)",
      "Input \u001b[0;32mIn [4]\u001b[0m, in \u001b[0;36m<cell line: 3>\u001b[0;34m()\u001b[0m\n\u001b[1;32m      3\u001b[0m \u001b[38;5;28;01mif\u001b[39;00m fit_eps:\n\u001b[1;32m      4\u001b[0m     pts \u001b[38;5;241m=\u001b[39m [(\u001b[38;5;241m0.1\u001b[39m,\u001b[38;5;241m-\u001b[39m\u001b[38;5;241m19.9\u001b[39m, eps), (\u001b[38;5;241m0.5\u001b[39m,\u001b[38;5;241m-\u001b[39m\u001b[38;5;241m18.6\u001b[39m, eps), (\u001b[38;5;241m1\u001b[39m,\u001b[38;5;241m-\u001b[39m\u001b[38;5;241m17.9\u001b[39m, eps)]\n\u001b[0;32m----> 5\u001b[0m     fit_res \u001b[38;5;241m=\u001b[39m \u001b[43mfit_epsilon_relation\u001b[49m\u001b[43m(\u001b[49m\u001b[43mpts_in\u001b[49m\u001b[38;5;241;43m=\u001b[39;49m\u001b[43mpts\u001b[49m\u001b[43m,\u001b[49m\u001b[43m \u001b[49m\u001b[43mplot_fit\u001b[49m\u001b[38;5;241;43m=\u001b[39;49m\u001b[38;5;28;43;01mTrue\u001b[39;49;00m\u001b[43m)\u001b[49m\n\u001b[1;32m      6\u001b[0m     \u001b[38;5;28;01mif\u001b[39;00m verbosity \u001b[38;5;241m>\u001b[39m\u001b[38;5;241m=\u001b[39m \u001b[38;5;241m0\u001b[39m:\n\u001b[1;32m      7\u001b[0m         \u001b[38;5;28mprint\u001b[39m(\u001b[38;5;124m'\u001b[39m\u001b[38;5;124my = \u001b[39m\u001b[38;5;132;01m%.3f\u001b[39;00m\u001b[38;5;124m log_10(10x + \u001b[39m\u001b[38;5;132;01m%.3f\u001b[39;00m\u001b[38;5;124m) + \u001b[39m\u001b[38;5;132;01m%.3f\u001b[39;00m\u001b[38;5;124m'\u001b[39m \u001b[38;5;241m%\u001b[39m (fit_res[\u001b[38;5;241m0\u001b[39m], fit_res[\u001b[38;5;241m1\u001b[39m], fit_res[\u001b[38;5;241m2\u001b[39m]))\n",
      "File \u001b[0;32m/oscar/home/sloane1/projects/pi-axiverse/piaxi_utils.py:865\u001b[0m, in \u001b[0;36mfit_epsilon_relation\u001b[0;34m(pts_in, plot_fit, verbosity)\u001b[0m\n\u001b[1;32m    863\u001b[0m xspace \u001b[38;5;241m=\u001b[39m np\u001b[38;5;241m.\u001b[39mlinspace(\u001b[38;5;241m0.01\u001b[39m, \u001b[38;5;241m1.5\u001b[39m, \u001b[38;5;241m150\u001b[39m)\n\u001b[1;32m    864\u001b[0m \u001b[38;5;28;01mif\u001b[39;00m \u001b[38;5;28mall\u001b[39m([eps_i \u001b[38;5;241m==\u001b[39m \u001b[38;5;241m1\u001b[39m \u001b[38;5;28;01mfor\u001b[39;00m eps_i \u001b[38;5;129;01min\u001b[39;00m eps_vals]):\n\u001b[0;32m--> 865\u001b[0m     popt, pcov \u001b[38;5;241m=\u001b[39m \u001b[43mcurve_fit\u001b[49m\u001b[43m(\u001b[49m\u001b[43mlogfit\u001b[49m\u001b[43m,\u001b[49m\u001b[43m \u001b[49m\u001b[43mnp\u001b[49m\u001b[38;5;241;43m.\u001b[39;49m\u001b[43marray\u001b[49m\u001b[43m(\u001b[49m\u001b[43mpts_x\u001b[49m\u001b[43m)\u001b[49m\u001b[43m,\u001b[49m\u001b[43mnp\u001b[49m\u001b[38;5;241;43m.\u001b[39;49m\u001b[43marray\u001b[49m\u001b[43m(\u001b[49m\u001b[43mpts_y\u001b[49m\u001b[43m)\u001b[49m\u001b[43m,\u001b[49m\u001b[43mp0\u001b[49m\u001b[38;5;241;43m=\u001b[39;49m\u001b[43m(\u001b[49m\u001b[38;5;241;43m2\u001b[39;49m\u001b[43m,\u001b[49m\u001b[38;5;241;43m0\u001b[39;49m\u001b[43m,\u001b[49m\u001b[38;5;241;43m-\u001b[39;49m\u001b[38;5;241;43m19.9\u001b[39;49m\u001b[43m)\u001b[49m\u001b[43m)\u001b[49m\n\u001b[1;32m    866\u001b[0m \u001b[38;5;28;01melse\u001b[39;00m:\n\u001b[1;32m    867\u001b[0m     \u001b[38;5;28mprint\u001b[39m(\u001b[38;5;124m'\u001b[39m\u001b[38;5;124mTODO: eps != 1 not yet supported\u001b[39m\u001b[38;5;124m'\u001b[39m)\n",
      "File \u001b[0;32m/gpfs/runtime/opt/anaconda/2022.05/lib/python3.9/site-packages/scipy/optimize/minpack.py:789\u001b[0m, in \u001b[0;36mcurve_fit\u001b[0;34m(f, xdata, ydata, p0, sigma, absolute_sigma, check_finite, bounds, method, jac, **kwargs)\u001b[0m\n\u001b[1;32m    787\u001b[0m \u001b[38;5;66;03m# Remove full_output from kwargs, otherwise we're passing it in twice.\u001b[39;00m\n\u001b[1;32m    788\u001b[0m return_full \u001b[38;5;241m=\u001b[39m kwargs\u001b[38;5;241m.\u001b[39mpop(\u001b[38;5;124m'\u001b[39m\u001b[38;5;124mfull_output\u001b[39m\u001b[38;5;124m'\u001b[39m, \u001b[38;5;28;01mFalse\u001b[39;00m)\n\u001b[0;32m--> 789\u001b[0m res \u001b[38;5;241m=\u001b[39m \u001b[43mleastsq\u001b[49m\u001b[43m(\u001b[49m\u001b[43mfunc\u001b[49m\u001b[43m,\u001b[49m\u001b[43m \u001b[49m\u001b[43mp0\u001b[49m\u001b[43m,\u001b[49m\u001b[43m \u001b[49m\u001b[43mDfun\u001b[49m\u001b[38;5;241;43m=\u001b[39;49m\u001b[43mjac\u001b[49m\u001b[43m,\u001b[49m\u001b[43m \u001b[49m\u001b[43mfull_output\u001b[49m\u001b[38;5;241;43m=\u001b[39;49m\u001b[38;5;241;43m1\u001b[39;49m\u001b[43m,\u001b[49m\u001b[43m \u001b[49m\u001b[38;5;241;43m*\u001b[39;49m\u001b[38;5;241;43m*\u001b[39;49m\u001b[43mkwargs\u001b[49m\u001b[43m)\u001b[49m\n\u001b[1;32m    790\u001b[0m popt, pcov, infodict, errmsg, ier \u001b[38;5;241m=\u001b[39m res\n\u001b[1;32m    791\u001b[0m ysize \u001b[38;5;241m=\u001b[39m \u001b[38;5;28mlen\u001b[39m(infodict[\u001b[38;5;124m'\u001b[39m\u001b[38;5;124mfvec\u001b[39m\u001b[38;5;124m'\u001b[39m])\n",
      "File \u001b[0;32m/gpfs/runtime/opt/anaconda/2022.05/lib/python3.9/site-packages/scipy/optimize/minpack.py:410\u001b[0m, in \u001b[0;36mleastsq\u001b[0;34m(func, x0, args, Dfun, full_output, col_deriv, ftol, xtol, gtol, maxfev, epsfcn, factor, diag)\u001b[0m\n\u001b[1;32m    408\u001b[0m \u001b[38;5;28;01mif\u001b[39;00m \u001b[38;5;129;01mnot\u001b[39;00m \u001b[38;5;28misinstance\u001b[39m(args, \u001b[38;5;28mtuple\u001b[39m):\n\u001b[1;32m    409\u001b[0m     args \u001b[38;5;241m=\u001b[39m (args,)\n\u001b[0;32m--> 410\u001b[0m shape, dtype \u001b[38;5;241m=\u001b[39m \u001b[43m_check_func\u001b[49m\u001b[43m(\u001b[49m\u001b[38;5;124;43m'\u001b[39;49m\u001b[38;5;124;43mleastsq\u001b[39;49m\u001b[38;5;124;43m'\u001b[39;49m\u001b[43m,\u001b[49m\u001b[43m \u001b[49m\u001b[38;5;124;43m'\u001b[39;49m\u001b[38;5;124;43mfunc\u001b[39;49m\u001b[38;5;124;43m'\u001b[39;49m\u001b[43m,\u001b[49m\u001b[43m \u001b[49m\u001b[43mfunc\u001b[49m\u001b[43m,\u001b[49m\u001b[43m \u001b[49m\u001b[43mx0\u001b[49m\u001b[43m,\u001b[49m\u001b[43m \u001b[49m\u001b[43margs\u001b[49m\u001b[43m,\u001b[49m\u001b[43m \u001b[49m\u001b[43mn\u001b[49m\u001b[43m)\u001b[49m\n\u001b[1;32m    411\u001b[0m m \u001b[38;5;241m=\u001b[39m shape[\u001b[38;5;241m0\u001b[39m]\n\u001b[1;32m    413\u001b[0m \u001b[38;5;28;01mif\u001b[39;00m n \u001b[38;5;241m>\u001b[39m m:\n",
      "File \u001b[0;32m/gpfs/runtime/opt/anaconda/2022.05/lib/python3.9/site-packages/scipy/optimize/minpack.py:24\u001b[0m, in \u001b[0;36m_check_func\u001b[0;34m(checker, argname, thefunc, x0, args, numinputs, output_shape)\u001b[0m\n\u001b[1;32m     22\u001b[0m \u001b[38;5;28;01mdef\u001b[39;00m \u001b[38;5;21m_check_func\u001b[39m(checker, argname, thefunc, x0, args, numinputs,\n\u001b[1;32m     23\u001b[0m                 output_shape\u001b[38;5;241m=\u001b[39m\u001b[38;5;28;01mNone\u001b[39;00m):\n\u001b[0;32m---> 24\u001b[0m     res \u001b[38;5;241m=\u001b[39m atleast_1d(\u001b[43mthefunc\u001b[49m\u001b[43m(\u001b[49m\u001b[38;5;241;43m*\u001b[39;49m\u001b[43m(\u001b[49m\u001b[43m(\u001b[49m\u001b[43mx0\u001b[49m\u001b[43m[\u001b[49m\u001b[43m:\u001b[49m\u001b[43mnuminputs\u001b[49m\u001b[43m]\u001b[49m\u001b[43m,\u001b[49m\u001b[43m)\u001b[49m\u001b[43m \u001b[49m\u001b[38;5;241;43m+\u001b[39;49m\u001b[43m \u001b[49m\u001b[43margs\u001b[49m\u001b[43m)\u001b[49m\u001b[43m)\u001b[49m)\n\u001b[1;32m     25\u001b[0m     \u001b[38;5;28;01mif\u001b[39;00m (output_shape \u001b[38;5;129;01mis\u001b[39;00m \u001b[38;5;129;01mnot\u001b[39;00m \u001b[38;5;28;01mNone\u001b[39;00m) \u001b[38;5;129;01mand\u001b[39;00m (shape(res) \u001b[38;5;241m!=\u001b[39m output_shape):\n\u001b[1;32m     26\u001b[0m         \u001b[38;5;28;01mif\u001b[39;00m (output_shape[\u001b[38;5;241m0\u001b[39m] \u001b[38;5;241m!=\u001b[39m \u001b[38;5;241m1\u001b[39m):\n",
      "File \u001b[0;32m/gpfs/runtime/opt/anaconda/2022.05/lib/python3.9/site-packages/scipy/optimize/minpack.py:485\u001b[0m, in \u001b[0;36m_wrap_func.<locals>.func_wrapped\u001b[0;34m(params)\u001b[0m\n\u001b[1;32m    484\u001b[0m \u001b[38;5;28;01mdef\u001b[39;00m \u001b[38;5;21mfunc_wrapped\u001b[39m(params):\n\u001b[0;32m--> 485\u001b[0m     \u001b[38;5;28;01mreturn\u001b[39;00m \u001b[43mfunc\u001b[49m\u001b[43m(\u001b[49m\u001b[43mxdata\u001b[49m\u001b[43m,\u001b[49m\u001b[43m \u001b[49m\u001b[38;5;241;43m*\u001b[39;49m\u001b[43mparams\u001b[49m\u001b[43m)\u001b[49m\u001b[43m \u001b[49m\u001b[38;5;241;43m-\u001b[39;49m\u001b[43m \u001b[49m\u001b[43mydata\u001b[49m\n",
      "\u001b[0;31mValueError\u001b[0m: operands could not be broadcast together with shapes (2,) (3,) "
     ]
    }
   ],
   "source": [
    "fit_eps = True\n",
    "eps = 1.\n",
    "if fit_eps:\n",
    "    pts = [(0.1,-19.9), (0.5,-18.6), (1,-17.9)]\n",
    "    fit_res = fit_crude_epsilon_relation(pts_in=pts, plot_fit=True)\n",
    "    if verbosity >= 0:\n",
    "        print('y = %.3f log_10(10x + %.3f) + %.3f' % (fit_res[0], fit_res[1], fit_res[2]))"
   ]
  },
  {
   "cell_type": "code",
   "execution_count": null,
   "id": "34b4ecd8",
   "metadata": {},
   "outputs": [],
   "source": [
    "fit_F = True\n",
    "\n",
    "if fit_F:\n",
    "    Fpi = fit_Fpi(1.0, 1e-20)"
   ]
  },
  {
   "cell_type": "code",
   "execution_count": null,
   "id": "dba39f3c-df75-47ef-ad1b-6e40a2b5da9a",
   "metadata": {},
   "outputs": [],
   "source": [
    "## Analyze a run's plots\n",
    "import matplotlib.pyplot as plt\n",
    "import seaborn as sns\n",
    "import numpy as np\n",
    "\n",
    "# Sample data (replace with actual data)\n",
    "data = {\n",
    "    # ... (your provided dataset)\n",
    "}\n",
    "\n",
    "# Placeholder for raw solution (replace with actual data when available)\n",
    "raw_solution = np.random.rand(300, 200)  # Example TxN-dimensional array\n",
    "\n",
    "# Heatmap for raw solution\n",
    "plt.figure(figsize=(12, 8))\n",
    "sns.heatmap(raw_solution, cmap='viridis')\n",
    "plt.title(\"Heatmap of Raw Solution (Amplitude of Photon Field)\")\n",
    "plt.xlabel(\"k-mode\")\n",
    "plt.ylabel(\"Time\")\n",
    "plt.show()\n",
    "\n",
    "# Bar plots for k_mean_arr, k_peak_arr, and k_sens_arr\n",
    "k_modes = np.arange(1, len(data[\"k_mean_arr\"]) + 1)\n",
    "plt.figure(figsize=(12, 8))\n",
    "plt.bar(k_modes, data[\"k_mean_arr\"], label=\"k_mean_arr\", alpha=0.6)\n",
    "plt.bar(k_modes, data[\"k_peak_arr\"], label=\"k_peak_arr\", alpha=0.6)\n",
    "plt.bar(k_modes, data[\"k_sens_arr\"], label=\"k_sens_arr\", alpha=0.6)\n",
    "plt.xlabel(\"k-mode\")\n",
    "plt.ylabel(\"Value\")\n",
    "plt.title(\"Bar Plots for k_mean_arr, k_peak_arr, and k_sens_arr\")\n",
    "plt.legend()\n",
    "plt.grid(True)\n",
    "plt.show()\n",
    "\n",
    "# Categorical plot for k_class_arr\n",
    "plt.figure(figsize=(12, 8))\n",
    "sns.countplot(data[\"k_class_arr\"])\n",
    "plt.title(\"Distribution of Classification Labels\")\n",
    "plt.xlabel(\"Class\")\n",
    "plt.ylabel(\"Count\")\n",
    "plt.grid(True)\n",
    "plt.show()\n"
   ]
  }
 ],
 "metadata": {
  "kernelspec": {
   "display_name": "Python 3 (ipykernel)",
   "language": "python",
   "name": "python3"
  },
  "language_info": {
   "codemirror_mode": {
    "name": "ipython",
    "version": 3
   },
   "file_extension": ".py",
   "mimetype": "text/x-python",
   "name": "python",
   "nbconvert_exporter": "python",
   "pygments_lexer": "ipython3",
   "version": "3.9.12"
  }
 },
 "nbformat": 4,
 "nbformat_minor": 5
}
