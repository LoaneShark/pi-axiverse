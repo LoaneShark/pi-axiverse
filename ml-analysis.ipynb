{
 "cells": [
  {
   "cell_type": "code",
   "execution_count": 1,
   "id": "2b58be9f-ba23-40a7-b561-0a15e34cdfd0",
   "metadata": {
    "tags": []
   },
   "outputs": [],
   "source": [
    "import numpy as np\n",
    "#from scipy.integrate import solve_ivp\n",
    "#from scipy.signal import spectrogram\n",
    "import matplotlib.pyplot as plt\n",
    "#from piaxi_numerics import set_params, solve_system, get_text_params\n",
    "from sklearn.neural_network import MLPClassifier, MLPRegressor\n",
    "from sklearn.preprocessing import StandardScaler\n",
    "from sklearn.pipeline import Pipeline\n",
    "from sklearn.model_selection import train_test_split\n",
    "from sklearn.svm import SVC"
   ]
  },
  {
   "cell_type": "code",
   "execution_count": 2,
   "id": "bbc988cd-959f-48a6-8a47-8844beec7743",
   "metadata": {},
   "outputs": [],
   "source": [
    "## TODO: Data generation, importing, and preprocessing\n",
    "\n",
    "# TODO: load dataset\n",
    "from sklearn.datasets import make_classification\n",
    "X, y = make_classification(random_state = 0, n_features = 20, n_informative = 18, n_classes = 3)\n",
    "\n",
    "# TODO: split into train and test sets\n",
    "X_train, X_test, y_train, y_test = train_test_split(X, y, random_state = 0)"
   ]
  },
  {
   "cell_type": "code",
   "execution_count": 3,
   "id": "a60f7024-b7cd-41ca-9693-ef43275b3e7b",
   "metadata": {},
   "outputs": [
    {
     "name": "stdout",
     "output_type": "stream",
     "text": [
      "svc\n",
      "Score: 0.72\n",
      " --------------------------------------- \n",
      "mlp\n",
      "Score: 0.31\n",
      " --------------------------------------- \n"
     ]
    }
   ],
   "source": [
    "# Create dataset processing and classification pipeline\n",
    "model_svc = Pipeline([('scaler', StandardScaler()), ('svc', SVC())])\n",
    "model_mlp = Pipeline([('scaler', StandardScaler()), ('mlp', MLPRegressor(max_iter=400))])\n",
    "models = [model_svc, model_mlp]\n",
    "\n",
    "# Fit model to training dataset\n",
    "for model in models:\n",
    "    print(list(model.named_steps.keys())[1])\n",
    "    model.fit(X_train, y_train)\n",
    "    # Evaluate fit with test dataset\n",
    "    print(\"Score: %.2f\" % model.score(X_test, y_test))\n",
    "    print(\" --------------------------------------- \")"
   ]
  },
  {
   "cell_type": "code",
   "execution_count": null,
   "id": "da29efb8-ea8a-45d4-b6d5-cbb5dc728a43",
   "metadata": {},
   "outputs": [],
   "source": []
  }
 ],
 "metadata": {
  "kernelspec": {
   "display_name": "Python 3 (ipykernel)",
   "language": "python",
   "name": "python3"
  },
  "language_info": {
   "codemirror_mode": {
    "name": "ipython",
    "version": 3
   },
   "file_extension": ".py",
   "mimetype": "text/x-python",
   "name": "python",
   "nbconvert_exporter": "python",
   "pygments_lexer": "ipython3",
   "version": "3.8.3"
  }
 },
 "nbformat": 4,
 "nbformat_minor": 5
}
