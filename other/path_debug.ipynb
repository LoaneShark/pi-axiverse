{
 "cells": [
  {
   "cell_type": "code",
   "execution_count": null,
   "id": "8a632f74-c234-4290-a2d3-db585ee46e74",
   "metadata": {},
   "outputs": [
    {
     "name": "stdout",
     "output_type": "stream",
     "text": [
      "D:\\env\\Python\\Python38-3\\python.exe\n"
     ]
    }
   ],
   "source": [
    "import sys\n",
    "print(sys.executable)"
   ]
  },
  {
   "cell_type": "code",
   "execution_count": 10,
   "id": "c3469762-0fb5-4cf2-961e-9caf0649205e",
   "metadata": {},
   "outputs": [
    {
     "name": "stdout",
     "output_type": "stream",
     "text": [
      "win32\n",
      "3.8.3 (tags/v3.8.3:6f8c832, May 13 2020, 22:37:02) [MSC v.1924 64 bit (AMD64)]\n",
      "namespace(cache_tag='cpython-38', hexversion=50856944, name='cpython', version=sys.version_info(major=3, minor=8, micro=3, releaselevel='final', serial=0))\n"
     ]
    }
   ],
   "source": [
    "print(sys.platform)\n",
    "print(sys.version)\n",
    "print(sys.implementation)"
   ]
  },
  {
   "cell_type": "code",
   "execution_count": 11,
   "id": "d1f092c6-0ed0-4cea-8e04-42b9344841f8",
   "metadata": {},
   "outputs": [
    {
     "name": "stdout",
     "output_type": "stream",
     "text": [
      "['D:\\\\Code\\\\Research\\\\pi-axiverse', 'D:\\\\env\\\\Python\\\\Python38-3\\\\python38.zip', 'D:\\\\env\\\\Python\\\\Python38-3\\\\DLLs', 'D:\\\\env\\\\Python\\\\Python38-3\\\\lib', 'D:\\\\env\\\\Python\\\\Python38-3', '', 'C:\\\\Users\\\\santi\\\\AppData\\\\Roaming\\\\Python\\\\Python38\\\\site-packages', 'D:\\\\env\\\\Python\\\\Python38-3\\\\lib\\\\site-packages', 'D:\\\\env\\\\Python\\\\Python38-3\\\\lib\\\\site-packages\\\\win32', 'D:\\\\env\\\\Python\\\\Python38-3\\\\lib\\\\site-packages\\\\win32\\\\lib', 'D:\\\\env\\\\Python\\\\Python38-3\\\\lib\\\\site-packages\\\\Pythonwin', 'D:\\\\env\\\\Python\\\\Python38-3\\\\lib\\\\site-packages\\\\IPython\\\\extensions', 'C:\\\\Users\\\\santi\\\\.ipython']\n"
     ]
    }
   ],
   "source": [
    "print(sys.path)"
   ]
  },
  {
   "cell_type": "code",
   "execution_count": 12,
   "id": "8cc415d9-84d7-43ab-99c7-920f11f074e3",
   "metadata": {},
   "outputs": [
    {
     "name": "stdout",
     "output_type": "stream",
     "text": [
      "Requirement already satisfied: scipy in d:\\env\\python\\python38-3\\lib\\site-packages (1.10.1)\n",
      "Requirement already satisfied: numpy<1.27.0,>=1.19.5 in d:\\env\\python\\python38-3\\lib\\site-packages (from scipy) (1.23.5)\n"
     ]
    }
   ],
   "source": [
    "!pip install scipy"
   ]
  },
  {
   "cell_type": "code",
   "execution_count": 20,
   "id": "c2d6ced3-e7f4-4371-8fde-d988906ea512",
   "metadata": {},
   "outputs": [
    {
     "name": "stdout",
     "output_type": "stream",
     "text": [
      "Requirement already satisfied: scipy in d:\\env\\python\\python38-3\\lib\\site-packages (1.10.1)\n",
      "Requirement already satisfied: numpy<1.27.0,>=1.19.5 in d:\\env\\python\\python38-3\\lib\\site-packages (from scipy) (1.23.5)\n"
     ]
    }
   ],
   "source": [
    "!{sys.executable} -m pip install --upgrade scipy"
   ]
  },
  {
   "cell_type": "code",
   "execution_count": null,
   "id": "b4a397c4-6280-4048-8448-79b076366426",
   "metadata": {},
   "outputs": [],
   "source": []
  }
 ],
 "metadata": {
  "kernelspec": {
   "display_name": "Python 3 (ipykernel)",
   "language": "python",
   "name": "python3"
  },
  "language_info": {
   "codemirror_mode": {
    "name": "ipython",
    "version": 3
   },
   "file_extension": ".py",
   "mimetype": "text/x-python",
   "name": "python",
   "nbconvert_exporter": "python",
   "pygments_lexer": "ipython3",
   "version": "3.8.3"
  }
 },
 "nbformat": 4,
 "nbformat_minor": 5
}
