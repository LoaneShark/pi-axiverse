{
 "cells": [
  {
   "cell_type": "code",
   "execution_count": 10,
   "id": "c0f56e26-0cd8-4178-aafc-bfd81cdb7edf",
   "metadata": {},
   "outputs": [],
   "source": [
    "import numpy as np\n",
    "from scipy.integrate import solve_ivp\n",
    "from scipy.signal import spectrogram\n",
    "import matplotlib.pyplot as plt"
   ]
  },
  {
   "cell_type": "code",
   "execution_count": 11,
   "id": "42e3d506-f2c3-4809-966e-aa7792314127",
   "metadata": {},
   "outputs": [],
   "source": [
    "# Set constants of model\n",
    "e    = 0.3      # dimensionless electron charge\n",
    "F    = 1e11     # pi-axion decay constant (GeV)\n",
    "p_t  = 0.4      # total local DM density (GeV/cm^3)\n",
    "\n",
    "# Tuneable constants\n",
    "# millicharge, vary to enable/disable charged species (10e-15 = OFF, 10e-25 = ON)\n",
    "eps  = 1e-25   # \n",
    "pm   = +1       # +/- case (+1 or -1)\n",
    "\n",
    "# Coupling constants\n",
    "L3   = 1e11    # (GeV)\n",
    "L4   = 1e11    # (GeV)\n",
    "l1   = 1       #\n",
    "l2   = 1       #\n",
    "l3   = 1       #\n",
    "l4   = 1       #\n",
    "\n",
    "# Unit scaling:\n",
    "GeV  = 1e9     # GeV -> eV\n",
    "F   *= GeV\n",
    "p_t *= GeV\n",
    "L3  *= GeV\n",
    "L4  *= GeV"
   ]
  },
  {
   "cell_type": "code",
   "execution_count": 12,
   "id": "6fae5567-60be-4f5e-96a1-fb789aae4b6e",
   "metadata": {},
   "outputs": [],
   "source": [
    "# Initial Conditions\n",
    "A_0    = 0.1\n",
    "Adot_0 = 0"
   ]
  },
  {
   "cell_type": "code",
   "execution_count": 13,
   "id": "1968fb02-3949-4522-891d-fd49c5687f30",
   "metadata": {},
   "outputs": [],
   "source": [
    "# Parameters of model\n",
    "\n",
    "# masses for real, complex, and charged species in range (10e-8, 10e-4)\n",
    "m    = [1, 3, 5]   # 10e-8 eV\n",
    "\n",
    "# local DM densities/amplitudes for each species\n",
    "p    = np.array([1/3, 1/3, 1/3]) * p_t\n",
    "amps = [np.sqrt(2 * p[i]) / m[i] for i in range(len(m))]\n",
    "\n",
    "# local phases for each species (to be sampled)\n",
    "d    = [0, 0, 0]   # (0, 2pi)\n",
    "d_sample = True\n",
    "\n",
    "# global phase for neutral complex species (to be sampled)\n",
    "Th   = [0, 0, 0]   # (0, 2pi)\n",
    "Th_sample = True"
   ]
  },
  {
   "cell_type": "code",
   "execution_count": 14,
   "id": "d9bb5943-6d15-41a2-964f-b1d76f16a70b",
   "metadata": {},
   "outputs": [],
   "source": [
    "# Sample phases from normal distribution, between 0 and 2pi\n",
    "\n",
    "mu  = np.pi      # mean\n",
    "sig = np.pi / 3  # standard deviation\n",
    "\n",
    "# Modulo 2pi to ensure value is within range\n",
    "if d_sample:\n",
    "    for d_i in d:\n",
    "        d_i = np.mod(np.random.normal(mu, sig), 2*np.pi)\n",
    "if Th_sample:\n",
    "    for Th_i in Th:\n",
    "        Th_i = np.mod(np.random.normal(mu, sig), 2*np.pi)"
   ]
  },
  {
   "cell_type": "code",
   "execution_count": 15,
   "id": "39c6b3af-8848-46b0-9e14-d571cb1d6574",
   "metadata": {},
   "outputs": [],
   "source": [
    "# TODO: Finish defining time-dependent functions P(t), B(t), C(t), D(t) here\n",
    "#       Verify they are the correct form, especially signs and factors of 2\n",
    "# NOTE: Using cosine definitons for amplitudes\n",
    "#       i = {0,1,2} correspond to {pi_0, pi, pi_+/-} respectively\n",
    "def P(t):\n",
    "    return 4*l3/(L3**2) * eps**2 * (np.abs(amps[2])**2 * np.cos(m[2]*t + d[2])**2) + \\\n",
    "           4*l4/(L4**2) * eps**2 * (np.abs(amps[1])**2 * np.cos(m[1]*t + d[1])**2 + \\\n",
    "                                    np.abs(amps[0])**2 * np.cos(m[0]*t + d[0])**2 + \\\n",
    "                                    2*np.abs(amps[0])*np.abs(amps[1]) * np.cos(m[0]*t + d[0])*np.cos(m[1]*t + d[1]) * np.cos(Th[1]))\n",
    "\n",
    "def B(t):\n",
    "    return (-1)*8*l3/(L3**2) * eps**2 * (np.abs(amps[2])**2 * m[2] * np.sin(m[2]*t + d[2])**2 * np.cos(m[2]*t + d[2])**2) + \\\n",
    "           (-1)*8*l4/(L4**2) * eps**2 * (np.abs(amps[0])**2 * m[0] * np.sin(m[0]*t + d[0])**2 * np.cos(m[0]*t + d[0])**2 + \\\n",
    "                                         np.abs(amps[1])**2 * m[1] * np.sin(m[1]*t + d[1])**2 * np.cos(m[1]*t + d[1])**2 + \\\n",
    "                                         np.abs(amps[1])*np.abs(amps[0]) * np.cos(Th[1]) * \\\n",
    "                                            (m[0] * np.sin(m[0]*t + d[0])**2 * np.cos(m[1]*t + d[1])**2 + \\\n",
    "                                             m[1] * np.sin(m[1]*t + d[1])**2 * np.cos(m[0]*t + d[0])**2))\n",
    "\n",
    "def C(t):\n",
    "    return (-1) * pm * (2*l1 / F * eps**2) * np.abs(amps[0]) * m[0] * np.sin(m[0]*t + d[0])\n",
    "\n",
    "def D(t):\n",
    "    return 2*l2 * eps**2 * e**2 * np.abs(amps[2])**2 * np.cos(m[2]*t + d[2])**2"
   ]
  },
  {
   "cell_type": "code",
   "execution_count": 16,
   "id": "56d4cbac-8cbd-4b5f-ae5d-d93b21ba1cca",
   "metadata": {},
   "outputs": [],
   "source": [
    "# Define the system of ODEs\n",
    "def system(t, y, k):\n",
    "    dy0dt = y[1]\n",
    "    dy1dt = -1/(1 + P(t)) * (B(t)*y[1] + (C(t)*k + D(t))*y[0]) - k**2*y[0]\n",
    "    return [dy0dt, dy1dt]\n",
    "\n",
    "# Initial conditions\n",
    "y0 = [A_0, Adot_0]\n",
    "\n",
    "# Time domain\n",
    "t_span = [0, 10]  # TODO: replace with the appropriate values\n",
    "\n",
    "# k values\n",
    "k_values = np.linspace(1/100, 10, 100)  # TODO: replace with the appropriate values\n",
    "\n",
    "# Initialize an array to store the solutions\n",
    "t = np.linspace(t_span[0], t_span[1], 500)         # Array of times at which to evaluate\n",
    "solutions = np.zeros((len(k_values), 2, len(t)))   # Array of solutions for mode k at time t"
   ]
  },
  {
   "cell_type": "code",
   "execution_count": 17,
   "id": "f0667d75-a484-49cc-9fbf-241a63159c34",
   "metadata": {},
   "outputs": [],
   "source": [
    "# Solve the differential equation for each k\n",
    "for i, k in enumerate(k_values):\n",
    "    sol = solve_ivp(system, t_span, y0, args=(k,), dense_output=True)\n",
    "\n",
    "    # Evaluate the solution at the times in the array\n",
    "    y = sol.sol(t)\n",
    "\n",
    "    # Store the solution\n",
    "    solutions[i] = y\n",
    "\n",
    "    # `solutions` contains the solutions for A(t) for each k.\n",
    "    # e.g. `solutions[i]` is the solution for `k_values[i]`."
   ]
  },
  {
   "cell_type": "code",
   "execution_count": 18,
   "id": "7d8c7431-ef62-421d-b241-2c4f071ed3ef",
   "metadata": {},
   "outputs": [
    {
     "data": {
      "image/png": "[encoded data removed]",
      "text/plain": [
       "<Figure size 720x360 with 1 Axes>"
      ]
     },
     "metadata": {
      "needs_background": "light"
     },
     "output_type": "display_data"
    }
   ],
   "source": [
    "# Plot the solution\n",
    "signstr = {1: \"+\", -1: \"-\", 0: \"±\"}\n",
    "#k_i = 500\n",
    "plt.figure(figsize=(10, 5))\n",
    "plt.plot(t, [sum([solutions[k_i,0,t_i] for k_i in range(len(k_values))]) for t_i in range(len(t))])\n",
    "plt.title('Evolution of the mode function A±(t) (± = '+signstr[pm]+')')\n",
    "plt.xlabel('Time')\n",
    "plt.ylabel('|A±|^2')\n",
    "#plt.yscale('log')\n",
    "plt.grid()\n",
    "plt.show()"
   ]
  },
  {
   "cell_type": "code",
   "execution_count": null,
   "id": "c89f9c92-705d-42be-8577-0ee69d911032",
   "metadata": {},
   "outputs": [],
   "source": []
  }
 ],
 "metadata": {
  "kernelspec": {
   "display_name": "Python 3 (ipykernel)",
   "language": "python",
   "name": "python3"
  },
  "language_info": {
   "codemirror_mode": {
    "name": "ipython",
    "version": 3
   },
   "file_extension": ".py",
   "mimetype": "text/x-python",
   "name": "python",
   "nbconvert_exporter": "python",
   "pygments_lexer": "ipython3",
   "version": "3.8.3"
  }
 },
 "nbformat": 4,
 "nbformat_minor": 5
}
