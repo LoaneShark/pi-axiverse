{
 "cells": [
  {
   "cell_type": "code",
   "execution_count": 1,
   "id": "1efce7fc-2a72-4baa-9454-b2d7607e1101",
   "metadata": {},
   "outputs": [],
   "source": [
    "## SIMULATION PARAMETERS\n",
    "verbosity         = 5        # Set debug print statement verbosity level (0 = Standard, -1 = Off)\n",
    "use_mass_units    = True     # Toggle whether calculations / results are given in units of pi-axion mass (True) or eV (False)\n",
    "use_natural_units = True     # Toggle whether calculations / results are given in c = h = G = 1 (True) or SI units (False)   || NOTE: full SI/phsyical unit support is still WIP!!\n",
    "save_output_files = True     # Toggle whether or not the results from this notebook run are written to a data directory\n",
    "\n",
    "config_name = 'piaxi_debug'   # Descriptive name for the given parameter case. Output files will be saved in a directory with this name.\n",
    "seed = 1                     # rng_seed, integer value (None for random)\n",
    "num_cores = 100               # Number of parallel threads available\n",
    "density = 1e22                # Local DM energy density (in [Gev/cm^3])"
   ]
  },
  {
   "cell_type": "code",
   "execution_count": 2,
   "id": "181a9e6a-b819-449f-b911-1f4b4b2588fb",
   "metadata": {
    "tags": []
   },
   "outputs": [],
   "source": [
    "#%cd .."
   ]
  },
  {
   "cell_type": "code",
   "execution_count": 3,
   "id": "829a6d01-8613-4e73-a434-f415f6c6a868",
   "metadata": {},
   "outputs": [],
   "source": [
    "#%load piaxiverse.py"
   ]
  },
  {
   "cell_type": "code",
   "execution_count": 4,
   "id": "cfc382bd-8663-4a87-af79-be6523fec553",
   "metadata": {
    "jupyter": {
     "source_hidden": true
    },
    "tags": []
   },
   "outputs": [],
   "source": [
    "#%conda init\n",
    "#%conda activate piaxiverse"
   ]
  },
  {
   "cell_type": "code",
   "execution_count": 5,
   "id": "3032ff31-973f-4ede-a0b1-7d4123b1af16",
   "metadata": {
    "tags": []
   },
   "outputs": [
    {
     "name": "stderr",
     "output_type": "stream",
     "text": [
      "module: unloading 'anaconda/latest'\n",
      "module: loading 'anaconda/latest'\n",
      "module: anaconda: This module will be updated without notice, as it is a symbolic to the latest anaconda module. See https://docs.ccv.brown.edu/oscar/software/anaconda for potential issues on VNC and batch jobs\n"
     ]
    },
    {
     "name": "stdout",
     "output_type": "stream",
     "text": [
      "\n",
      "     active environment : piaxiverse\n",
      "    active env location : /users/sloane1/.conda/envs/piaxiverse\n",
      "            shell level : 1\n",
      "       user config file : /users/sloane1/.condarc\n",
      " populated config files : /gpfs/runtime/opt/anaconda/2022.05/.condarc\n",
      "          conda version : 4.12.0\n",
      "    conda-build version : 3.21.8\n",
      "         python version : 3.9.12.final.0\n",
      "       virtual packages : __linux=3.10.0=0\n",
      "                          __glibc=2.17=0\n",
      "                          __unix=0=0\n",
      "                          __archspec=1=x86_64\n",
      "       base environment : /gpfs/runtime/opt/anaconda/2022.05  (read only)\n",
      "      conda av data dir : /gpfs/runtime/opt/anaconda/2022.05/etc/conda\n",
      "  conda av metadata url : None\n",
      "           channel URLs : https://repo.anaconda.com/pkgs/main/linux-64\n",
      "                          https://repo.anaconda.com/pkgs/main/noarch\n",
      "                          https://repo.anaconda.com/pkgs/r/linux-64\n",
      "                          https://repo.anaconda.com/pkgs/r/noarch\n",
      "          package cache : /users/sloane1/.conda/pkg\n",
      "                          /gpfs/runtime/opt/anaconda/2022.05/pkgs\n",
      "       envs directories : /users/sloane1/anaconda\n",
      "                          /users/sloane1/.conda/envs\n",
      "                          /gpfs/runtime/opt/anaconda/2022.05/envs\n",
      "               platform : linux-64\n",
      "             user-agent : conda/4.12.0 requests/2.27.1 CPython/3.9.12 Linux/3.10.0-1160.76.1.el7.x86_64 rhel/7.9 glibc/2.17\n",
      "                UID:GID : 140506043:975\n",
      "             netrc file : None\n",
      "           offline mode : False\n",
      "\n",
      "rng_seed: 1\n",
      "m_unit:   1.4142135623730952e-06\n",
      "m (raw):\n",
      " [array([1.41421356e-06, 2.00000000e-06]) array([1.73205081e-06])\n",
      " array([], dtype=float64)]\n",
      "m (out):\n",
      " [array([1.41421356e-06, 2.00000000e-06]) array([1.73205081e-06])\n",
      " array([], dtype=float64)]\n",
      "amps (raw):\n",
      " [array([1.12738592e+15, 7.97182232e+14]) array([8.40303855e+14])\n",
      " array([], dtype=float64)]\n",
      "amps (out):\n",
      " [array([7.97182232e+20, 5.63692962e+20]) array([5.94184554e+20])\n",
      " array([], dtype=float64)]\n",
      "Sample delta?   True (uniform distribution)\n",
      "delta (out):\n",
      " [array([0.07427746, 2.83034688]) array([4.04737421])\n",
      " array([], dtype=float64)]\n",
      "Sample Theta?   True (uniform distribution)\n",
      "Theta (out):\n",
      " [array([2.81894761, 5.10088745]) array([5.80143118])\n",
      " array([], dtype=float64)]\n",
      "use_mass_units:  True || use_natural_units: True\n",
      "----------------------------------------------------\n",
      "unitful_masses:  True | [eV]\n",
      "rescale_m:       True | [eV] -> [m_u]\n",
      "unitful_k:      False | [m_u]\n",
      "rescale_k:      False \n",
      "unitful_amps:    True | [eV]\n",
      "rescale_amps:    True | [eV] -> [m_u]\n",
      "rescale_consts:  True | [eV] -> [m_u]\n",
      "----------------------------------------------------\n",
      "m_dQCD = 1e-30 [eV]\n",
      "m_u = 1.414e-06 [eV]\n",
      "m [m_u]\n",
      "  m_(0): 1.000e+00 | 1.414e+00\n",
      "  m_(π): 1.225e+00\n",
      "  m_(±): N/A\n",
      "rho [eV^4]\n",
      "  m_(0): 1.271e+18 | 1.271e+18\n",
      "  m_(π): 1.059e+18\n",
      "  m_(±): N/A\n",
      "amp [m_u]\n",
      "  m_(0): 7.972e+20 | 5.637e+20\n",
      "  m_(π): 5.942e+20\n",
      "  m_(±): N/A\n",
      "Theta [π]\n",
      "  m_(0): 0.90 | 1.62\n",
      "  m_(π): 1.85\n",
      "  m_(±): N/A\n",
      "delta [π]\n",
      "  m_(0): 0.02 | 0.90\n",
      "  m_(π): 1.29\n",
      "  m_(±): N/A\n",
      "parameter space configuration hash:\n",
      "41997e25210bab876910b409cedc0d998b1c8e3f\n",
      "Parallel?       True \n",
      "Integrating using RK45\n"
     ]
    },
    {
     "name": "stderr",
     "output_type": "stream",
     "text": [
      "100%|██████████| 300/300 [01:08<00:00,  4.38it/s]\n"
     ]
    },
    {
     "name": "stdout",
     "output_type": "stream",
     "text": [
      "0:01:48.768357 elapsed on 100 cores\n",
      "max (peak) k mode: 1.0\n",
      "max (mean) k mode: 1.0\n",
      "n_tot in range [7.02e+04, 4.73e+45]\n",
      "resonance classification begins at t = 8.03, n = 1.52e+03\n",
      "P(t) range: [2.6e-02, 1.4e+03]\n",
      "B(t) range: [-1.3e+03, 1.3e+03]\n",
      "C(t) range: [-4.5e-03, 4.5e-03] for + case \n",
      "C(t) range: [-4.5e-03, 4.5e-03] for - case \n",
      "D(t) range: [nan, nan]\n",
      "------------------------------------------------------\n",
      "Alpha(t,k) range: [1.0e+00, 1.0e+00] when k = 1\n",
      "Alpha(t,k) range: [1.0e+02, 1.0e+02] when k = 10\n",
      "Alpha(t,k) range: [4.0e+02, 4.0e+02] when k = 20\n",
      "Alpha(t,k) range: [2.5e+03, 2.5e+03] when k = 50\n",
      "Alpha(t,k) range: [5.6e+03, 5.6e+03] when k = 75\n",
      "Alpha(t,k) range: [1.0e+04, 1.0e+04] when k = 100\n",
      "Alpha(t,k) range: [1.6e+04, 1.6e+04] when k = 125\n",
      "Alpha(t,k) range: [2.2e+04, 2.3e+04] when k = 150\n",
      "Alpha(t,k) range: [3.1e+04, 3.1e+04] when k = 175\n",
      "Alpha(t,k) range: [4.0e+04, 4.0e+04] when k = 200\n",
      "Beta(t)    range: [-6.6e+01, 3.7e+01]\n",
      "params['class']:\n",
      " resonance\n",
      "peak resonance at k = 1 corresponds to photon frequency at 3.85e+13 Hz (Infrared)\n",
      "possible UIE signal\n",
      "broad-band resonance detected from 4e+13 to 1e+16 Hz\n",
      "Results saved to /users/sloane1/scratch/v3.2/piaxi_debug\n",
      "Files saved:                                                        | (Total: 2.0MiB)\n",
      "  piaxi_debug_41997e25210bab876910b409cedc0d998b1c8e3f.json         | 18.2KiB\n",
      "  piaxi_debug_41997e25210bab876910b409cedc0d998b1c8e3f.npy          | 1.4MiB\n",
      "  piaxi_debug_41997e25210bab876910b409cedc0d998b1c8e3f_plots.pdf    | 667.5KiB\n",
      "Done!\n"
     ]
    }
   ],
   "source": [
    "%%bash -s {density} {config_name} {seed} {num_cores} {verbosity} {use_mass_units}\n",
    "\n",
    "module load anaconda/latest\n",
    "source /gpfs/runtime/opt/anaconda/latest/etc/profile.d/conda.sh\n",
    "conda activate piaxiverse\n",
    "\n",
    "PIAXI_VERBOSITY=$5\n",
    "\n",
    "if [ $PIAXI_VERBOSITY > 6 ]\n",
    "then\n",
    "    conda info\n",
    "fi\n",
    "\n",
    "if [ $6 == False ]\n",
    "then\n",
    "    PIAXI_UNITS=\"--no-use_mass_units --no-use_natural_units\"\n",
    "else\n",
    "    PIAXI_UNITS=\"--use_mass_units --use_natural_units\"\n",
    "fi\n",
    "\n",
    "if [ $3 == None ]\n",
    "then\n",
    "    PIAXI_SEED=\"\"\n",
    "else\n",
    "    PIAXI_SEED=\"--seed $3\"\n",
    "fi\n",
    "\n",
    "PIAXI_SYS_NAME=$2\n",
    "PIAXI_N_CORES=$4\n",
    "PIAXI_N_TIMES=300\n",
    "PIAXI_N_KMODE=300\n",
    "PIAXI_T_MAX=30\n",
    "PIAXI_K_MAX=300\n",
    "\n",
    "# Expect resonance for cases where [sqrt(2*Rho)/m_a] >= [F_pi]\n",
    "# let m_a = 1e-6 eV\n",
    "# let g_a = 1e-10 GeV^-1\n",
    "# Expect critical threshold between rho ~ 1e17 GeV and 1e18 GeV\n",
    "\n",
    "# Density [GeV] ~ (amp_a)^2*m_a / 2\n",
    "PIAXI_DENSITY=$1\n",
    "# F_pi [GeV] ~ 2/g_a\n",
    "PIAXI_F=\"1e9\"\n",
    "# m_I [eV] ~ (m_a)^2 / F_pi\n",
    "PIAXI_MASS=\"1e-30\"\n",
    "\n",
    "PIAXI_LAMBDA=\"1e5\"\n",
    "\n",
    "python piaxiverse.py $PIAXI_SEED $PIAXI_UNITS --no-skip_existing --num_cores $PIAXI_N_CORES --verbosity $PIAXI_VERBOSITY --t $PIAXI_T_MAX --tN $PIAXI_N_TIMES --k $PIAXI_K_MAX --kN $PIAXI_N_KMODE --m_scale $PIAXI_MASS --config_name $PIAXI_SYS_NAME --L4 $PIAXI_LAMBDA --rho $PIAXI_DENSITY --dqm_c 1 1 1 0 0 0 --no-fit_F --F $PIAXI_F\n"
   ]
  },
  {
   "cell_type": "code",
   "execution_count": null,
   "id": "b75beff9-0068-4807-8ad7-2a1a0afdd1a5",
   "metadata": {},
   "outputs": [],
   "source": []
  },
  {
   "cell_type": "code",
   "execution_count": null,
   "id": "0ec538ae-fa80-4a3a-b61f-4a505607f8cb",
   "metadata": {},
   "outputs": [],
   "source": []
  },
  {
   "cell_type": "code",
   "execution_count": null,
   "id": "ea946c79-0d8d-4b23-a466-0f0df456a898",
   "metadata": {},
   "outputs": [],
   "source": []
  }
 ],
 "metadata": {
  "kernelspec": {
   "display_name": "Python 3 (ipykernel)",
   "language": "python",
   "name": "python3"
  },
  "language_info": {
   "codemirror_mode": {
    "name": "ipython",
    "version": 3
   },
   "file_extension": ".py",
   "mimetype": "text/x-python",
   "name": "python",
   "nbconvert_exporter": "python",
   "pygments_lexer": "ipython3",
   "version": "3.9.12"
  }
 },
 "nbformat": 4,
 "nbformat_minor": 5
}
