{
 "cells": [
  {
   "cell_type": "code",
   "execution_count": 1,
   "id": "1efce7fc-2a72-4baa-9454-b2d7607e1101",
   "metadata": {},
   "outputs": [],
   "source": [
    "## SIMULATION PARAMETERS\n",
    "verbosity         = 5        # Set debug print statement verbosity level (0 = Standard, -1 = Off)\n",
    "use_mass_units    = True     # Toggle whether calculations / results are given in units of pi-axion mass (True) or eV (False)\n",
    "use_natural_units = True     # Toggle whether calculations / results are given in c = h = G = 1 (True) or SI units (False)   || NOTE: full SI/phsyical unit support is still WIP!!\n",
    "save_output_files = True     # Toggle whether or not the results from this notebook run are written to a data directory\n",
    "\n",
    "config_name = 'debug'   # Descriptive name for the given parameter case. Output files will be saved in a directory with this name.\n",
    "seed = 1                     # rng_seed, integer value (None for random)\n",
    "num_cores = 20               # Number of parallel threads available\n",
    "density = 0.4                # Local DM energy density (in [Gev/cm^3])"
   ]
  },
  {
   "cell_type": "code",
   "execution_count": 2,
   "id": "181a9e6a-b819-449f-b911-1f4b4b2588fb",
   "metadata": {
    "tags": []
   },
   "outputs": [
    {
     "name": "stdout",
     "output_type": "stream",
     "text": [
      "/oscar/home/sloane1/projects\n"
     ]
    }
   ],
   "source": [
    "#%cd .."
   ]
  },
  {
   "cell_type": "code",
   "execution_count": null,
   "id": "829a6d01-8613-4e73-a434-f415f6c6a868",
   "metadata": {},
   "outputs": [],
   "source": [
    "#%load piaxiverse.py"
   ]
  },
  {
   "cell_type": "code",
   "execution_count": null,
   "id": "3032ff31-973f-4ede-a0b1-7d4123b1af16",
   "metadata": {
    "tags": []
   },
   "outputs": [],
   "source": [
    "%%bash -s \"$density\" \"$config_name\" \"$seed\" \"$num_cores\" \"$verbosity\" \"$use_mass_units\"\n",
    "\n",
    "PIAXI_DENSITY=$1\n",
    "PIAXI_SYS_NAME=$2\n",
    "PIAXI_RNG_SEED=$3\n",
    "PIAXI_N_CORES=$4\n",
    "PIAXI_N_TIMES=300\n",
    "PIAXI_N_KMODE=200\n",
    "PIAXI_N_QMASS=20\n",
    "PIAXI_VERBOSITY=$5\n",
    "PIAXI_MASS_UNIT=$6\n",
    "PIAXI_MASS_RANGE=\"-20 -40\"\n",
    "#PIAXI_L_RANGE=\"0 30\"\n",
    "#PIAXI_L3_RANGE=\"0 30\"\n",
    "PIAXI_L4_RANGE=\"0 30\"\n",
    "#PIAXI_N_L=30\n",
    "#PIAXI_N_L3=30\n",
    "PIAXI_N_L4=30\n",
    "\n",
    "#module load anaconda/latest\n",
    "source /gpfs/runtime/opt/anaconda/latest/etc/profile.d/conda.sh\n",
    "conda activate piaxiverse\n",
    "#conda info\n",
    "\n",
    "if [ $PIAXI_VERBOSITY > 3 ]\n",
    "then\n",
    "    conda info\n",
    "fi\n",
    "\n",
    "python piaxiverse.py --num_cores $PIAXI_N_CORES --seed $PIAXI_RNG_SEED --tN $PIAXI_N_TIMES --use_mass_units $PIAXI_MASS_UNIT --verbosity $PIAXI_VERBOSITY --kN $PIAXI_N_KMODE --scan_mass $PIAXI_MASS_RANGE --scan_mass_N $PIAXI_N_QMASS --scan_Lambda4 $PIAXI_L4_RANGE --scan_Lambda4_N $PIAXI_N_L4 --config_name $PIAXI_SYS_NAME --rho $PIAXI_DENSITY --dqm_c 1 1 1 0 0 0 --scan_F 16 18 --scan_F_N 3\n"
   ]
  }
 ],
 "metadata": {
  "kernelspec": {
   "display_name": "Python 3 (ipykernel)",
   "language": "python",
   "name": "python3"
  },
  "language_info": {
   "codemirror_mode": {
    "name": "ipython",
    "version": 3
   },
   "file_extension": ".py",
   "mimetype": "text/x-python",
   "name": "python",
   "nbconvert_exporter": "python",
   "pygments_lexer": "ipython3",
   "version": "3.9.12"
  }
 },
 "nbformat": 4,
 "nbformat_minor": 5
}
