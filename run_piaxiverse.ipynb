{
 "cells": [
  {
   "cell_type": "code",
   "execution_count": 1,
   "id": "1efce7fc-2a72-4baa-9454-b2d7607e1101",
   "metadata": {},
   "outputs": [],
   "source": [
    "## SIMULATION PARAMETERS\n",
    "verbosity         = 5        # Set debug print statement verbosity level (0 = Standard, -1 = Off)\n",
    "use_mass_units    = True     # Toggle whether calculations / results are given in units of pi-axion mass (True) or eV (False)\n",
    "use_natural_units = True     # Toggle whether calculations / results are given in c = h = G = 1 (True) or SI units (False)   || NOTE: full SI/phsyical unit support is still WIP!!\n",
    "save_output_files = True     # Toggle whether or not the results from this notebook run are written to a data directory\n",
    "\n",
    "config_name = 'piaxi_debug'   # Descriptive name for the given parameter case. Output files will be saved in a directory with this name.\n",
    "seed = 1                      # rng_seed, integer value (None for random)\n",
    "num_cores = 100               # Number of parallel threads available\n",
    "density = 22                  # Local DM energy density (in [log Gev/cm^3])"
   ]
  },
  {
   "cell_type": "code",
   "execution_count": 2,
   "id": "181a9e6a-b819-449f-b911-1f4b4b2588fb",
   "metadata": {
    "tags": []
   },
   "outputs": [],
   "source": [
    "#%cd .."
   ]
  },
  {
   "cell_type": "code",
   "execution_count": 3,
   "id": "829a6d01-8613-4e73-a434-f415f6c6a868",
   "metadata": {},
   "outputs": [],
   "source": [
    "#%load piaxiverse.py"
   ]
  },
  {
   "cell_type": "code",
   "execution_count": 4,
   "id": "cfc382bd-8663-4a87-af79-be6523fec553",
   "metadata": {
    "tags": []
   },
   "outputs": [],
   "source": [
    "#%conda init\n",
    "#%conda activate piaxiverse"
   ]
  },
  {
   "cell_type": "code",
   "execution_count": 5,
   "id": "3032ff31-973f-4ede-a0b1-7d4123b1af16",
   "metadata": {
    "tags": []
   },
   "outputs": [
    {
     "name": "stderr",
     "output_type": "stream",
     "text": [
      "Traceback (most recent call last):\n",
      "  File \"/oscar/rt/9.2/software/0.20-generic/0.20.1/opt/spack/linux-rhel9-x86_64_v3/gcc-11.3.1/anaconda-2023.09-0-7nso27ys7navjquejqdxqylhg7kuyvxo/bin/conda\", line 12, in <module>\n",
      "    from conda.cli import main\n",
      "ModuleNotFoundError: No module named 'conda'\n"
     ]
    },
    {
     "name": "stdout",
     "output_type": "stream",
     "text": [
      "rng_seed: 1\n",
      "m_unit:   1.4167190881823235e-06\n",
      "m (raw):\n",
      " [array([1.41671909e-06, 2.00177246e-06]) array([1.73409716e-06])\n",
      " array([], dtype=float64)]\n",
      "m (out):\n",
      " [array([1.41671909e-06, 2.00177246e-06]) array([1.73409716e-06])\n",
      " array([], dtype=float64)]\n",
      "amps (raw):\n",
      " [array([1.12539210e+15, 7.96476372e+14]) array([8.39312237e+14])\n",
      " array([], dtype=float64)]\n",
      "amps (out):\n",
      " [array([7.94365027e+20, 5.62197812e+20]) array([5.92433775e+20])\n",
      " array([], dtype=float64)]\n",
      "Sample delta?   True (uniform distribution)\n",
      "delta (out):\n",
      " [array([2.83034688, 4.04737421]) array([2.81894761])\n",
      " array([], dtype=float64)]\n",
      "Sample Theta?   True (uniform distribution)\n",
      "Theta (out):\n",
      " [array([5.10088745, 5.80143118]) array([2.05901612])\n",
      " array([], dtype=float64)]\n",
      "Characteristic timescales by species:\n",
      " -   reals: m_min = 1.00 [m_u]  --->  T_r = 2.00π [1/m_u]\n",
      " - complex: m_min = 1.22 [m_u]  --->  T_n = 2.00π [1/m_u]\n",
      " - charged: m_min = 0.00 [m_u]  --->  T_c = 0.00π [1/m_u]\n",
      "----------------------------------------------------\n",
      "use_mass_units:  True || use_natural_units: True\n",
      "----------------------------------------------------\n",
      "unitful_masses:  True | [eV]\n",
      "rescale_m:       True | [eV] -> [m_u]\n",
      "unitful_k:      False | [m_u]\n",
      "rescale_k:      False \n",
      "unitful_amps:    True | [eV]\n",
      "rescale_amps:    True | [eV] -> [m_u]\n",
      "rescale_consts:  True | [eV] -> [m_u]\n",
      "----------------------------------------------------\n",
      "m_dQCD = 1e-30 [eV]\n",
      "m_u = 1.417e-06 [eV]\n",
      "m [m_u]\n",
      "  m_(0): 1.000e+00 | 1.413e+00\n",
      "  m_(π): 1.224e+00\n",
      "  m_(±): N/A\n",
      "rho [eV^4]\n",
      "  m_(0): 1.271e+18 | 1.271e+18\n",
      "  m_(π): 1.059e+18\n",
      "  m_(±): N/A\n",
      "amp [m_u]\n",
      "  m_(0): 7.944e+20 | 5.622e+20\n",
      "  m_(π): 5.924e+20\n",
      "  m_(±): N/A\n",
      "Theta [π]\n",
      "  m_(0): 1.62 | 1.85\n",
      "  m_(π): 0.66\n",
      "  m_(±): N/A\n",
      "delta [π]\n",
      "  m_(0): 0.90 | 1.29\n",
      "  m_(π): 0.90\n",
      "  m_(±): N/A\n",
      "parameter space configuration hash:\n",
      "39bbcfec686bb4553ea72bd257bcba0db150a8db\n",
      "Parallel?       True \n",
      "Integrating using RK45\n"
     ]
    },
    {
     "name": "stderr",
     "output_type": "stream",
     "text": [
      "100%|██████████| 300/300 [00:05<00:00, 53.51it/s] \n"
     ]
    },
    {
     "name": "stdout",
     "output_type": "stream",
     "text": [
      "0:00:11.103398 elapsed on 100 cores\n",
      "fit = a: 0.00   b: 0.97   c: 0.00\n",
      "pcov = \n",
      " [[ 0.00019331  0.         -0.00018043]\n",
      " [ 0.          0.          0.        ]\n",
      " [-0.00018043  0.          0.00019331]]\n",
      "log-mean-squared error: 41.99\n",
      "max (peak) k mode: 1.0\n",
      "max (mean) k mode: 1.0\n",
      "fit = a: 0.00   b: 0.97   c: 0.00\n",
      "pcov = \n",
      " [[ 0.00019331  0.         -0.00018043]\n",
      " [ 0.          0.          0.        ]\n",
      " [-0.00018043  0.          0.00019331]]\n",
      "log-mean-squared error: 41.99\n",
      "tot_class: resonance\n",
      "ratio_f: 1.1527001914782683e+22\n",
      "ratio_m: 1.1527001914782683e+22\n",
      "t_res: 11.538461538461538\n",
      "t_max: 30.0\n",
      "n_res: 110551550.56570542\n",
      "n_max: 8.089703909807195e+26\n",
      "res  | t: 11.54    n = 1.11e+08\n",
      "max  | t: 30.00    n = 8.09e+26\n",
      "res condition: 1000\n",
      "class =  resonance => resonance\n",
      "n_tot in range [7.02e+04, 8.09e+26]\n",
      "P(t) range: [5.0e-01, 1.1e+03]\n",
      "B(t) range: [-1.2e+03, 1.2e+03]\n",
      "C(t) range: [-4.4e-03, 4.5e-03] for + case \n",
      "C(t) range: [-4.5e-03, 4.4e-03] for - case \n",
      "D(t) range: [nan, nan]\n",
      "------------------------------------------------------\n",
      "Alpha(t,k) range: [1.0e+00, 1.0e+00] when k = 1\n",
      "Alpha(t,k) range: [1.0e+02, 1.0e+02] when k = 10\n",
      "Alpha(t,k) range: [4.0e+02, 4.0e+02] when k = 20\n",
      "Alpha(t,k) range: [2.5e+03, 2.5e+03] when k = 50\n",
      "Alpha(t,k) range: [5.6e+03, 5.6e+03] when k = 75\n",
      "Alpha(t,k) range: [1.0e+04, 1.0e+04] when k = 100\n",
      "Alpha(t,k) range: [1.6e+04, 1.6e+04] when k = 125\n",
      "Alpha(t,k) range: [2.2e+04, 2.3e+04] when k = 150\n",
      "Alpha(t,k) range: [3.1e+04, 3.1e+04] when k = 175\n",
      "Alpha(t,k) range: [4.0e+04, 4.0e+04] when k = 200\n",
      "Beta(t)    range: [-1.7e+02, 1.5e+03]\n",
      "params['class']:\n",
      " resonance\n",
      "fit = a: 0.00   b: 0.97   c: 0.00\n",
      "pcov = \n",
      " [[ 0.00019331  0.         -0.00018043]\n",
      " [ 0.          0.          0.        ]\n",
      " [-0.00018043  0.          0.00019331]]\n",
      "log-mean-squared error: 41.99\n",
      "Results saved to /users/sloane1/scratch/v3.2.6/piaxi_debug\n",
      "Files saved:                                                        | (Total: 3.3MiB)\n",
      "  piaxi_debug_39bbcfec686bb4553ea72bd257bcba0db150a8db.json         | 39.1KiB\n",
      "  piaxi_debug_39bbcfec686bb4553ea72bd257bcba0db150a8db.npy          | 1.4MiB\n",
      "  piaxi_debug_39bbcfec686bb4553ea72bd257bcba0db150a8db_funcs.pkl    | 13.2KiB\n",
      "  piaxi_debug_39bbcfec686bb4553ea72bd257bcba0db150a8db_plots.pdf    | 1.9MiB\n",
      "Done!\n"
     ]
    }
   ],
   "source": [
    "%%bash -s {density} {config_name} {seed} {num_cores} {verbosity} {use_mass_units}\n",
    "\n",
    "#module load anaconda\n",
    "#source /gpfs/runtime/opt/anaconda/latest/etc/profile.d/conda.sh\n",
    "#conda activate piaxiverse\n",
    "\n",
    "PIAXI_VERBOSITY=$5\n",
    "\n",
    "if [ $PIAXI_VERBOSITY > 6 ]\n",
    "then\n",
    "    conda info\n",
    "fi\n",
    "\n",
    "if [ $6 == False ]\n",
    "then\n",
    "    PIAXI_UNITS=\"--no-use_mass_units --no-use_natural_units\"\n",
    "else\n",
    "    PIAXI_UNITS=\"--use_mass_units --use_natural_units\"\n",
    "fi\n",
    "\n",
    "if [ $3 == None ]\n",
    "then\n",
    "    PIAXI_SEED=\"\"\n",
    "else\n",
    "    PIAXI_SEED=\"--seed $3\"\n",
    "fi\n",
    "\n",
    "PIAXI_SYS_NAME=$2\n",
    "PIAXI_N_CORES=$4\n",
    "PIAXI_N_TIMES=300\n",
    "PIAXI_N_KMODE=300\n",
    "PIAXI_T_MAX=30\n",
    "PIAXI_K_MAX=300\n",
    "\n",
    "# Expect resonance for cases where [sqrt(2*Rho)/m_a] >= [F_pi]\n",
    "# let m_a = 1e-6 eV\n",
    "# let g_a = 1e-10 GeV^-1\n",
    "# Expect critical threshold between rho ~ 1e17 GeV and 1e18 GeV\n",
    "\n",
    "# Density [GeV] ~ (amp_a)^2*m_a / 2\n",
    "PIAXI_DENSITY=$1\n",
    "# F_pi [GeV] ~ 2/g_a\n",
    "PIAXI_F=\"9\"\n",
    "# m_I [eV] ~ (m_a)^2 / F_pi\n",
    "PIAXI_MASS=\"-30\"\n",
    "\n",
    "PIAXI_LAMBDA=\"5\"\n",
    "PIAXI_DQMC=\"0.5 0.5 0 0 0 0\"\n",
    "\n",
    "python piaxiverse.py $PIAXI_SEED $PIAXI_UNITS --no-skip_existing --num_cores $PIAXI_N_CORES --verbosity $PIAXI_VERBOSITY --t $PIAXI_T_MAX --tN $PIAXI_N_TIMES --k $PIAXI_K_MAX --kN $PIAXI_N_KMODE --m_scale $PIAXI_MASS --config_name $PIAXI_SYS_NAME --L4 $PIAXI_LAMBDA --rho $PIAXI_DENSITY --dqm_c $PIAXI_DQMC --no-fit_F --F $PIAXI_F\n"
   ]
  },
  {
   "cell_type": "code",
   "execution_count": null,
   "id": "0ec538ae-fa80-4a3a-b61f-4a505607f8cb",
   "metadata": {},
   "outputs": [],
   "source": []
  },
  {
   "cell_type": "code",
   "execution_count": null,
   "id": "ea946c79-0d8d-4b23-a466-0f0df456a898",
   "metadata": {},
   "outputs": [],
   "source": []
  },
  {
   "cell_type": "code",
   "execution_count": null,
   "id": "d429366e-9d6c-45ff-96d2-739710db43ca",
   "metadata": {},
   "outputs": [],
   "source": []
  }
 ],
 "metadata": {
  "kernelspec": {
   "display_name": "Python 3 (ipykernel)",
   "language": "python",
   "name": "python3"
  },
  "language_info": {
   "codemirror_mode": {
    "name": "ipython",
    "version": 3
   },
   "file_extension": ".py",
   "mimetype": "text/x-python",
   "name": "python",
   "nbconvert_exporter": "python",
   "pygments_lexer": "ipython3",
   "version": "3.11.5"
  }
 },
 "nbformat": 4,
 "nbformat_minor": 5
}
